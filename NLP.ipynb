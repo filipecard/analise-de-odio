{
 "cells": [
  {
   "cell_type": "code",
   "execution_count": 2,
   "metadata": {},
   "outputs": [],
   "source": [
    "import pandas as pd\n",
    "import numpy as np\n",
    "from nltk.corpus import stopwords"
   ]
  },
  {
   "cell_type": "code",
   "execution_count": 3,
   "metadata": {},
   "outputs": [],
   "source": [
    "#Ajustar tamanho máximo de linha visível. Max caracteres por tweet: 280\n",
    "pd.set_option('max_colwidth', 300)"
   ]
  },
  {
   "cell_type": "code",
   "execution_count": 4,
   "metadata": {},
   "outputs": [],
   "source": [
    "#Importar dados do dataset encoding incompatível com utf-8\n",
    "data = pd.read_csv(\"train.csv\", encoding='latin-1')\n",
    "#Remover colunas desncessárias\n",
    "data = data.drop(columns=['ItemID','Sentiment'])"
   ]
  },
  {
   "cell_type": "code",
   "execution_count": 5,
   "metadata": {},
   "outputs": [],
   "source": [
    "#Criar coluna com o tamanho de caracteres de cada tweet\n",
    "data['length'] = [len(tweet[0]) for tweet in data.values]"
   ]
  },
  {
   "cell_type": "code",
   "execution_count": 6,
   "metadata": {},
   "outputs": [
    {
     "data": {
      "text/html": [
       "<div>\n",
       "<style scoped>\n",
       "    .dataframe tbody tr th:only-of-type {\n",
       "        vertical-align: middle;\n",
       "    }\n",
       "\n",
       "    .dataframe tbody tr th {\n",
       "        vertical-align: top;\n",
       "    }\n",
       "\n",
       "    .dataframe thead th {\n",
       "        text-align: right;\n",
       "    }\n",
       "</style>\n",
       "<table border=\"1\" class=\"dataframe\">\n",
       "  <thead>\n",
       "    <tr style=\"text-align: right;\">\n",
       "      <th></th>\n",
       "      <th>SentimentText</th>\n",
       "      <th>length</th>\n",
       "    </tr>\n",
       "  </thead>\n",
       "  <tbody>\n",
       "    <tr>\n",
       "      <td>8834</td>\n",
       "      <td>brokeback mountain was terrible.\\n8838,0,Sentiment140,# @Catherine42 I wouldn't mind but I only had 1/2 a portion &amp;amp; then left 1/2 the cream  just fruit for me then until my hols  x\\n8839,1,Sentiment140,# @DeliciousLunch ... dark chocolate cookies? oh you tease! I'm writing to day n dipping ...</td>\n",
       "      <td>949</td>\n",
       "    </tr>\n",
       "    <tr>\n",
       "      <td>11346</td>\n",
       "      <td>#self_info 2ë¬ë? ê°ë°ì?... ì?¸ê°ì ?ì?¸ ê°ë°ì?ë¥¼ ê¿ê¿ëë¤. íì¬ ì§ì­ê´ê³ ìë²ë¥¼ íê³ , ê°ì?¸ì ?ì¼ë¡ë ê²ììì§ì? ë§ë¤ë ¤ê³  ì¤ë¹ì¤ì",
       "ëë¤. ì¤ë¹. . .ã",
       "ã",
       "ã",
       " íë¡ì° ê³ ê³ ê³ ~   ê¸°ì ìì? ì¬ëìì§ ì¬ëìì? ê¸°ì ìë¤~!</td>\n",
       "      <td>274</td>\n",
       "    </tr>\n",
       "    <tr>\n",
       "      <td>33208</td>\n",
       "      <td>@ahohey  project design à¹à¸à¹à¸?à¸à¸µà¹à¸à¸µà¸à¸µà¹à¸¡à¸«à¹à¸­à¸­à¸?à¹?à¸à¸à¹à¸£à¸à¸à¸¢à¸²à¸à¸²à¸¥....à¸?à¸³à¸¥à¸±à¸à¸à¸³à¹à¸à¸£à¹?à¸?à¸£à¸¡à¸­à¸¢à¸¹à¹....à¹à¸à¸´à¸?à¹à¸à¸¢à¸¡à¸² comment à¸à¸µà¸?à¸§à¹à¸² 5555    function à¹à¸¢à</td>\n",
       "      <td>255</td>\n",
       "    </tr>\n",
       "    <tr>\n",
       "      <td>9495</td>\n",
       "      <td>&amp;quot;Ð¯ Ð¿Ð¾Ð´Ð¿Ð¸Ñ?Ð°Ð»Ñ?Ñ? Ð½Ð° Ð²Ð°ÑÑ RSS Ð»ÐµÐ½ÑÑ, Ð½Ð¾ Ñ?Ð¾Ð¾Ð±ÑÐµÐ½Ð¸Ñ? Ð¿Ð¾ÑÐµÐ¼Ñ-ÑÐ¾ Ð² Ð²Ð¸Ð´Ðµ ÐºÐ°ÐºÐ¸Ñ",
       "-ÑÐ¾ ÐºÐ²Ð°Ð´ÑÐ°ÑÐ¾Ð²  ÐÐ°Ðº Ñ?ÑÐ¾ Ð¸Ñ?Ð¿ÑÐ°Ð²Ð¸ÑÑ?&amp;quot; ÐÐ¾Ð¹ÑÐ¸ Ð½Ð°Ñ",
       " Ð¸ Ð·Ð°Ð±ÑÑÑ Ð¿ÑÐ¾ Ð¼Ð¾Ñ RSS ))</td>\n",
       "      <td>244</td>\n",
       "    </tr>\n",
       "    <tr>\n",
       "      <td>46373</td>\n",
       "      <td>@ApartHotel ÑÑ Ñ?ÐºÐ¾ÑÐµÐµ Ð¿Ð¾ÑÐµÑÑ?ÐµÑÑ Ð¸Ð»Ð¸ Ð¿Ð¾Ð¼ÐµÐ½Ñ?ÐµÑÑ ÑÐµÐ»ÐµÑÐ¾Ð½ Ð¿ÑÐµÐ¶Ð´Ðµ ÑÐµÐ¼ Ñ?Ð´Ð¾Ñ",
       "Ð½ÐµÑ Ð°ÐºÐºÑÐ¼ÑÐ»Ñ?ÑÐ¾Ñ  ÐÐ°ÑÐ¾ Ð¿ÑÐ¾ÑÐ½Ð¾Ñ?ÑÑ Ñ?Ð±Ð¾ÑÐºÐ¸ Ð±ÐµÑ?Ð¿Ð¾Ð´Ð¾Ð±Ð½Ð°Ñ? - ÐºÐ°Ðº Ð¼Ð¾Ð½Ð¾Ð»Ð¸Ñ!</td>\n",
       "      <td>237</td>\n",
       "    </tr>\n",
       "    <tr>\n",
       "      <td>...</td>\n",
       "      <td>...</td>\n",
       "      <td>...</td>\n",
       "    </tr>\n",
       "    <tr>\n",
       "      <td>34061</td>\n",
       "      <td>@ajbee</td>\n",
       "      <td>7</td>\n",
       "    </tr>\n",
       "    <tr>\n",
       "      <td>12256</td>\n",
       "      <td>*heart</td>\n",
       "      <td>7</td>\n",
       "    </tr>\n",
       "    <tr>\n",
       "      <td>4192</td>\n",
       "      <td>yeesh</td>\n",
       "      <td>7</td>\n",
       "    </tr>\n",
       "    <tr>\n",
       "      <td>2014</td>\n",
       "      <td>FOOD!</td>\n",
       "      <td>7</td>\n",
       "    </tr>\n",
       "    <tr>\n",
       "      <td>3776</td>\n",
       "      <td>just</td>\n",
       "      <td>6</td>\n",
       "    </tr>\n",
       "  </tbody>\n",
       "</table>\n",
       "<p>99989 rows × 2 columns</p>\n",
       "</div>"
      ],
      "text/plain": [
       "                                                                                                                                                                                                                                                                                                     SentimentText  \\\n",
       "8834    brokeback mountain was terrible.\\n8838,0,Sentiment140,# @Catherine42 I wouldn't mind but I only had 1/2 a portion &amp; then left 1/2 the cream  just fruit for me then until my hols  x\\n8839,1,Sentiment140,# @DeliciousLunch ... dark chocolate cookies? oh you tease! I'm writing to day n dipping ...   \n",
       "11346                           #self_info 2ë¬ë? ê°ë°ì?... ì?¸ê°ì ?ì?¸ ê°ë°ì?ë¥¼ ê¿ê¿ëë¤. íì¬ ì§ì­ê´ê³ ìë²ë¥¼ íê³ , ê°ì?¸ì ?ì¼ë¡ë ê²ììì§ì? ë§ë¤ë ¤ê³  ì¤ë¹ì¤ì\n",
       "ëë¤. ì¤ë¹. . .ã\n",
       "ã\n",
       "ã\n",
       " íë¡ì° ê³ ê³ ê³ ~   ê¸°ì ìì? ì¬ëìì§ ì¬ëìì? ê¸°ì ìë¤~!   \n",
       "33208                                              @ahohey  project design à¹à¸à¹à¸?à¸à¸µà¹à¸à¸µà¸à¸µà¹à¸¡à¸«à¹à¸­à¸­à¸?à¹?à¸à¸à¹à¸£à¸à¸à¸¢à¸²à¸à¸²à¸¥....à¸?à¸³à¸¥à¸±à¸à¸à¸³à¹à¸à¸£à¹?à¸?à¸£à¸¡à¸­à¸¢à¸¹à¹....à¹à¸à¸´à¸?à¹à¸à¸¢à¸¡à¸² comment à¸à¸µà¸?à¸§à¹à¸² 5555    function à¹à¸¢à   \n",
       "9495                                                          &quot;Ð¯ Ð¿Ð¾Ð´Ð¿Ð¸Ñ?Ð°Ð»Ñ?Ñ? Ð½Ð° Ð²Ð°ÑÑ RSS Ð»ÐµÐ½ÑÑ, Ð½Ð¾ Ñ?Ð¾Ð¾Ð±ÑÐµÐ½Ð¸Ñ? Ð¿Ð¾ÑÐµÐ¼Ñ-ÑÐ¾ Ð² Ð²Ð¸Ð´Ðµ ÐºÐ°ÐºÐ¸Ñ\n",
       "-ÑÐ¾ ÐºÐ²Ð°Ð´ÑÐ°ÑÐ¾Ð²  ÐÐ°Ðº Ñ?ÑÐ¾ Ð¸Ñ?Ð¿ÑÐ°Ð²Ð¸ÑÑ?&quot; ÐÐ¾Ð¹ÑÐ¸ Ð½Ð°Ñ\n",
       " Ð¸ Ð·Ð°Ð±ÑÑÑ Ð¿ÑÐ¾ Ð¼Ð¾Ñ RSS ))   \n",
       "46373                                                                @ApartHotel ÑÑ Ñ?ÐºÐ¾ÑÐµÐµ Ð¿Ð¾ÑÐµÑÑ?ÐµÑÑ Ð¸Ð»Ð¸ Ð¿Ð¾Ð¼ÐµÐ½Ñ?ÐµÑÑ ÑÐµÐ»ÐµÑÐ¾Ð½ Ð¿ÑÐµÐ¶Ð´Ðµ ÑÐµÐ¼ Ñ?Ð´Ð¾Ñ\n",
       "Ð½ÐµÑ Ð°ÐºÐºÑÐ¼ÑÐ»Ñ?ÑÐ¾Ñ  ÐÐ°ÑÐ¾ Ð¿ÑÐ¾ÑÐ½Ð¾Ñ?ÑÑ Ñ?Ð±Ð¾ÑÐºÐ¸ Ð±ÐµÑ?Ð¿Ð¾Ð´Ð¾Ð±Ð½Ð°Ñ? - ÐºÐ°Ðº Ð¼Ð¾Ð½Ð¾Ð»Ð¸Ñ!   \n",
       "...                                                                                                                                                                                                                                                                                                            ...   \n",
       "34061                                                                                                                                                                                                                                                                                                      @ajbee    \n",
       "12256                                                                                                                                                                                                                                                                                                      *heart    \n",
       "4192                                                                                                                                                                                                                                                                                                        yeesh    \n",
       "2014                                                                                                                                                                                                                                                                                                        FOOD!    \n",
       "3776                                                                                                                                                                                                                                                                                                         just    \n",
       "\n",
       "       length  \n",
       "8834      949  \n",
       "11346     274  \n",
       "33208     255  \n",
       "9495      244  \n",
       "46373     237  \n",
       "...       ...  \n",
       "34061       7  \n",
       "12256       7  \n",
       "4192        7  \n",
       "2014        7  \n",
       "3776        6  \n",
       "\n",
       "[99989 rows x 2 columns]"
      ]
     },
     "execution_count": 6,
     "metadata": {},
     "output_type": "execute_result"
    }
   ],
   "source": [
    "#Linhas com mais e menos caracteres\n",
    "data.sort_values(by='length', ascending=False)"
   ]
  },
  {
   "cell_type": "code",
   "execution_count": 11,
   "metadata": {},
   "outputs": [
    {
     "data": {
      "text/html": [
       "<div>\n",
       "<style scoped>\n",
       "    .dataframe tbody tr th:only-of-type {\n",
       "        vertical-align: middle;\n",
       "    }\n",
       "\n",
       "    .dataframe tbody tr th {\n",
       "        vertical-align: top;\n",
       "    }\n",
       "\n",
       "    .dataframe thead th {\n",
       "        text-align: right;\n",
       "    }\n",
       "</style>\n",
       "<table border=\"1\" class=\"dataframe\">\n",
       "  <thead>\n",
       "    <tr style=\"text-align: right;\">\n",
       "      <th></th>\n",
       "      <th>length</th>\n",
       "    </tr>\n",
       "  </thead>\n",
       "  <tbody>\n",
       "    <tr>\n",
       "      <td>count</td>\n",
       "      <td>99989.000000</td>\n",
       "    </tr>\n",
       "    <tr>\n",
       "      <td>mean</td>\n",
       "      <td>77.264309</td>\n",
       "    </tr>\n",
       "    <tr>\n",
       "      <td>std</td>\n",
       "      <td>36.382639</td>\n",
       "    </tr>\n",
       "    <tr>\n",
       "      <td>min</td>\n",
       "      <td>6.000000</td>\n",
       "    </tr>\n",
       "    <tr>\n",
       "      <td>25%</td>\n",
       "      <td>47.000000</td>\n",
       "    </tr>\n",
       "    <tr>\n",
       "      <td>50%</td>\n",
       "      <td>73.000000</td>\n",
       "    </tr>\n",
       "    <tr>\n",
       "      <td>75%</td>\n",
       "      <td>108.000000</td>\n",
       "    </tr>\n",
       "    <tr>\n",
       "      <td>max</td>\n",
       "      <td>949.000000</td>\n",
       "    </tr>\n",
       "  </tbody>\n",
       "</table>\n",
       "</div>"
      ],
      "text/plain": [
       "             length\n",
       "count  99989.000000\n",
       "mean      77.264309\n",
       "std       36.382639\n",
       "min        6.000000\n",
       "25%       47.000000\n",
       "50%       73.000000\n",
       "75%      108.000000\n",
       "max      949.000000"
      ]
     },
     "execution_count": 11,
     "metadata": {},
     "output_type": "execute_result"
    }
   ],
   "source": [
    "#Dados sobre a quantidade de caracteres\n",
    "data.describe()"
   ]
  },
  {
   "cell_type": "code",
   "execution_count": 12,
   "metadata": {},
   "outputs": [],
   "source": [
    "import re\n",
    "import string\n",
    "\n",
    "#Limpeza de texto 01\n",
    "def clean_text_round1(text):\n",
    "    text = text.lower().strip()\n",
    "    text = re.sub(r'@\\w+\\s', ' ', text) #Remover nomes de usuários\n",
    "    text = re.sub(r'https?://.+\\S', ' ', text) #Remover links\n",
    "    text = re.sub('&[\\w*%s*]' % re.escape(string.punctuation), ' ', text) #Apagar '&' e caracteres posteriores \n",
    "    text = re.sub(r'#', ' ', text)\n",
    "    text = re.sub('\\s{2,}', '', text) #Remover excesso de espaços\n",
    "    text = re.sub(r'\\s', ' ', text) #Remover whitespaces    \n",
    "    return text\n",
    "\n",
    "round1 = lambda x: clean_text_round1(x)"
   ]
  },
  {
   "cell_type": "code",
   "execution_count": null,
   "metadata": {},
   "outputs": [],
   "source": [
    "#Criar novo dataframe\n",
    "clean = pd.DataFrame.from_dict(data.SentimentText.apply(round1)) "
   ]
  },
  {
   "cell_type": "code",
   "execution_count": null,
   "metadata": {},
   "outputs": [],
   "source": [
    "#Criar coluna com o tamanho de caracteres de cada texto\n",
    "clean['length'] = [len(text[0]) for text in clean.values]"
   ]
  },
  {
   "cell_type": "code",
   "execution_count": null,
   "metadata": {},
   "outputs": [],
   "source": [
    "clean.describe()\n",
    "clean"
   ]
  },
  {
   "cell_type": "code",
   "execution_count": 22,
   "metadata": {},
   "outputs": [],
   "source": [
    "#Limpeza de texto 02\n",
    "def clean_text_round2(text):\n",
    "    #text = re.sub(r'\\W', \" \", text)\n",
    "    text = re.sub(r'(.)\\1{1,}', r'\\1', text) #Remove repetições\n",
    "    return text\n",
    "\n",
    "round2 = lambda x : clean_text_round2(x)    "
   ]
  },
  {
   "cell_type": "code",
   "execution_count": 9,
   "metadata": {},
   "outputs": [
    {
     "ename": "NameError",
     "evalue": "name 'clean' is not defined",
     "output_type": "error",
     "traceback": [
      "\u001b[0;31m---------------------------------------------------------------------------\u001b[0m",
      "\u001b[0;31mNameError\u001b[0m                                 Traceback (most recent call last)",
      "\u001b[0;32m<ipython-input-9-0a2f6f9097d9>\u001b[0m in \u001b[0;36m<module>\u001b[0;34m\u001b[0m\n\u001b[0;32m----> 1\u001b[0;31m \u001b[0mclean\u001b[0m\u001b[0;34m.\u001b[0m\u001b[0mSentimentText\u001b[0m \u001b[0;34m=\u001b[0m \u001b[0mpd\u001b[0m\u001b[0;34m.\u001b[0m\u001b[0mDataFrame\u001b[0m\u001b[0;34m.\u001b[0m\u001b[0mfrom_dict\u001b[0m\u001b[0;34m(\u001b[0m\u001b[0mclean\u001b[0m\u001b[0;34m.\u001b[0m\u001b[0mSentimentText\u001b[0m\u001b[0;34m.\u001b[0m\u001b[0mapply\u001b[0m\u001b[0;34m(\u001b[0m\u001b[0mround2\u001b[0m\u001b[0;34m)\u001b[0m\u001b[0;34m)\u001b[0m\u001b[0;34m\u001b[0m\u001b[0;34m\u001b[0m\u001b[0m\n\u001b[0m\u001b[1;32m      2\u001b[0m \u001b[0mclean\u001b[0m\u001b[0;34m\u001b[0m\u001b[0;34m\u001b[0m\u001b[0m\n",
      "\u001b[0;31mNameError\u001b[0m: name 'clean' is not defined"
     ]
    }
   ],
   "source": [
    "clean.SentimentText = pd.DataFrame.from_dict(clean.SentimentText.apply(round2))\n",
    "clean"
   ]
  },
  {
   "cell_type": "code",
   "execution_count": 10,
   "metadata": {},
   "outputs": [
    {
     "ename": "NameError",
     "evalue": "name 'clean' is not defined",
     "output_type": "error",
     "traceback": [
      "\u001b[0;31m---------------------------------------------------------------------------\u001b[0m",
      "\u001b[0;31mNameError\u001b[0m                                 Traceback (most recent call last)",
      "\u001b[0;32m<ipython-input-10-98c090d9c3e8>\u001b[0m in \u001b[0;36m<module>\u001b[0;34m\u001b[0m\n\u001b[1;32m      1\u001b[0m \u001b[0;31m#Remover linhas com menos de 2 caracteres ou mais de 300\u001b[0m\u001b[0;34m\u001b[0m\u001b[0;34m\u001b[0m\u001b[0;34m\u001b[0m\u001b[0m\n\u001b[0;32m----> 2\u001b[0;31m \u001b[0mnew\u001b[0m \u001b[0;34m=\u001b[0m \u001b[0mnp\u001b[0m\u001b[0;34m.\u001b[0m\u001b[0marray\u001b[0m\u001b[0;34m(\u001b[0m\u001b[0;34m[\u001b[0m\u001b[0;34m[\u001b[0m\u001b[0mline\u001b[0m\u001b[0;34m[\u001b[0m\u001b[0;36m0\u001b[0m\u001b[0;34m]\u001b[0m\u001b[0;34m,\u001b[0m \u001b[0mint\u001b[0m\u001b[0;34m(\u001b[0m\u001b[0mline\u001b[0m\u001b[0;34m[\u001b[0m\u001b[0;36m1\u001b[0m\u001b[0;34m]\u001b[0m\u001b[0;34m)\u001b[0m\u001b[0;34m]\u001b[0m \u001b[0;32mfor\u001b[0m \u001b[0mline\u001b[0m \u001b[0;32min\u001b[0m \u001b[0mclean\u001b[0m\u001b[0;34m.\u001b[0m\u001b[0mvalues\u001b[0m \u001b[0;32mif\u001b[0m \u001b[0;36m300\u001b[0m \u001b[0;34m>\u001b[0m \u001b[0mline\u001b[0m\u001b[0;34m[\u001b[0m\u001b[0;36m1\u001b[0m\u001b[0;34m]\u001b[0m \u001b[0;34m>\u001b[0m \u001b[0;36m2\u001b[0m\u001b[0;34m]\u001b[0m\u001b[0;34m)\u001b[0m\u001b[0;34m\u001b[0m\u001b[0;34m\u001b[0m\u001b[0m\n\u001b[0m\u001b[1;32m      3\u001b[0m \u001b[0mnew\u001b[0m \u001b[0;34m=\u001b[0m \u001b[0mpd\u001b[0m\u001b[0;34m.\u001b[0m\u001b[0mDataFrame\u001b[0m\u001b[0;34m.\u001b[0m\u001b[0mfrom_dict\u001b[0m\u001b[0;34m(\u001b[0m\u001b[0mnew\u001b[0m\u001b[0;34m)\u001b[0m\u001b[0;34m\u001b[0m\u001b[0;34m\u001b[0m\u001b[0m\n\u001b[1;32m      4\u001b[0m \u001b[0mnew\u001b[0m\u001b[0;34m.\u001b[0m\u001b[0mcolumns\u001b[0m \u001b[0;34m=\u001b[0m \u001b[0;34m[\u001b[0m\u001b[0;34m'text'\u001b[0m\u001b[0;34m,\u001b[0m \u001b[0;34m'length'\u001b[0m\u001b[0;34m]\u001b[0m\u001b[0;34m\u001b[0m\u001b[0;34m\u001b[0m\u001b[0m\n",
      "\u001b[0;31mNameError\u001b[0m: name 'clean' is not defined"
     ]
    }
   ],
   "source": [
    "#Remover linhas com menos de 2 caracteres ou mais de 300\n",
    "new = np.array([[line[0], int(line[1])] for line in clean.values if 300 > line[1] > 2])\n",
    "new = pd.DataFrame.from_dict(new)\n",
    "new.columns = ['text', 'length']"
   ]
  },
  {
   "cell_type": "code",
   "execution_count": 12,
   "metadata": {},
   "outputs": [],
   "source": [
    "to_int = lambda x: int(x)\n",
    "new['length'] = new.length.apply(to_int)"
   ]
  },
  {
   "cell_type": "code",
   "execution_count": 13,
   "metadata": {},
   "outputs": [
    {
     "data": {
      "text/html": [
       "<div>\n",
       "<style scoped>\n",
       "    .dataframe tbody tr th:only-of-type {\n",
       "        vertical-align: middle;\n",
       "    }\n",
       "\n",
       "    .dataframe tbody tr th {\n",
       "        vertical-align: top;\n",
       "    }\n",
       "\n",
       "    .dataframe thead th {\n",
       "        text-align: right;\n",
       "    }\n",
       "</style>\n",
       "<table border=\"1\" class=\"dataframe\">\n",
       "  <thead>\n",
       "    <tr style=\"text-align: right;\">\n",
       "      <th></th>\n",
       "      <th>text</th>\n",
       "      <th>length</th>\n",
       "    </tr>\n",
       "  </thead>\n",
       "  <tbody>\n",
       "    <tr>\n",
       "      <th>11333</th>\n",
       "      <td>self_info 2ë¬ë? ê°ë°ì?... ì?¸ê°ì ?ì?¸ ê°ë°ì?ë¥¼ ê¿ê¿ëë¤. íì¬ ì§ì­ê´ê³ ìë²ë¥¼ íê³ , ê°ì?¸ì ?ì¼ë¡ë ê²ììì§ì? ë§ë¤ë ¤ê³ì¤ë¹ì¤ì ëë¤. ì¤ë¹. . .ã ã ã  íë¡ì° ê³ ê³ ê³ ~ê¸°ì ìì? ì¬ëìì§ ì¬ëìì? ê¸°ì ìë¤~!</td>\n",
       "      <td>269</td>\n",
       "    </tr>\n",
       "    <tr>\n",
       "      <th>33052</th>\n",
       "      <td>project design à¹à¸à¹à¸?à¸à¸µà¹à¸à¸µà¸à¸µà¹à¸¡à¸«à¹à¸­à¸­à¸?à¹?à¸à¸à¹à¸£à¸à¸à¸¢à¸²à¸à¸²à¸¥....à¸?à¸³à¸¥à¸±à¸à¸à¸³à¹à¸à¸£à¹?à¸?à¸£à¸¡à¸­à¸¢à¸¹à¹....à¹à¸à¸´à¸?à¹à¸à¸¢à¸¡à¸² comment à¸à¸µà¸?à¸§à¹à¸² 5555function à¹à¸¢à</td>\n",
       "      <td>242</td>\n",
       "    </tr>\n",
       "    <tr>\n",
       "      <th>9482</th>\n",
       "      <td>uot;ð¯ ð¿ð¾ð´ð¿ð¸ñ?ð°ð»ñ?ñ? ð½ð° ð²ð°ññ rss ð»ðµð½ññ, ð½ð¾ ñ?ð¾ð¾ð±ñðµð½ð¸ñ? ð¿ð¾ñðµð¼ñ-ñð¾ ð² ð²ð¸ð´ðµ ðºð°ðºð¸ñ -ñð¾ ðºð²ð°ð´ñð°ñð¾ð²ðð°ðº ñ?ñð¾ ð¸ñ?ð¿ñð°ð²ð¸ññ? uot; ðð¾ð¹ñð¸ ð½ð°ñð¸ ð·ð°ð±ñññ ð¿ñð¾ ð¼ð¾ñ rss ))</td>\n",
       "      <td>238</td>\n",
       "    </tr>\n",
       "    <tr>\n",
       "      <th>48299</th>\n",
       "      <td>ð´ð¸ñ?ðº ð½ðµ ð¿ñð¾ð²ðµññ?ð», ð½ðµ ð·ð½ð°ñ. ð?ð¾ ð¿ð¾ðºð°ð·ð°ð»ð¾ñ?ñ, ññð¾ backup ð°ð¹ñð¾ð½ð° ð¾ð¿ñ?ññ ð´ðµð»ð°ðµññ?ñ? ð´ð¾ð»ð³ð¾ð² ð¿ñð¾ñð»ð¾ð¹ ð²ðµññ?ð¸ð¸ ð²ñð¾ð´ðµ ð¿ð¾ð¿ñð°ð²ð¸ð»ð¸, ð° ñ?ðµð¹ñð°ñ? ð¾ð¿ñ?ññ!</td>\n",
       "      <td>229</td>\n",
       "    </tr>\n",
       "    <tr>\n",
       "      <th>46098</th>\n",
       "      <td>ññ ñ?ðºð¾ñðµðµ ð¿ð¾ñðµññ?ðµññ ð¸ð»ð¸ ð¿ð¾ð¼ðµð½ñ?ðµññ ñðµð»ðµñð¾ð½ ð¿ñðµð¶ð´ðµ ñðµð¼ ñ?ð´ð¾ñ ð½ðµñ ð°ðºðºñð¼ñð»ñ?ñð¾ñðð°ñð¾ ð¿ñð¾ñð½ð¾ñ?ññ ñ?ð±ð¾ñðºð¸ ð±ðµñ?ð¿ð¾ð´ð¾ð±ð½ð°ñ? - ðºð°ðº ð¼ð¾ð½ð¾ð»ð¸ñ!</td>\n",
       "      <td>224</td>\n",
       "    </tr>\n",
       "    <tr>\n",
       "      <th>...</th>\n",
       "      <td>...</td>\n",
       "      <td>...</td>\n",
       "    </tr>\n",
       "    <tr>\n",
       "      <th>83232</th>\n",
       "      <td>ty</td>\n",
       "      <td>3</td>\n",
       "    </tr>\n",
       "    <tr>\n",
       "      <th>37894</th>\n",
       "      <td>me</td>\n",
       "      <td>3</td>\n",
       "    </tr>\n",
       "    <tr>\n",
       "      <th>27818</th>\n",
       "      <td>aww</td>\n",
       "      <td>3</td>\n",
       "    </tr>\n",
       "    <tr>\n",
       "      <th>94322</th>\n",
       "      <td>hi</td>\n",
       "      <td>3</td>\n",
       "    </tr>\n",
       "    <tr>\n",
       "      <th>50440</th>\n",
       "      <td>t;3</td>\n",
       "      <td>3</td>\n",
       "    </tr>\n",
       "  </tbody>\n",
       "</table>\n",
       "<p>99113 rows × 2 columns</p>\n",
       "</div>"
      ],
      "text/plain": [
       "                                                                                                                                                                                                                                                                                text  \\\n",
       "11333   self_info 2ë¬ë? ê°ë°ì?... ì?¸ê°ì ?ì?¸ ê°ë°ì?ë¥¼ ê¿ê¿ëë¤. íì¬ ì§ì­ê´ê³ ìë²ë¥¼ íê³ , ê°ì?¸ì ?ì¼ë¡ë ê²ììì§ì? ë§ë¤ë ¤ê³ì¤ë¹ì¤ì ëë¤. ì¤ë¹. . .ã ã ã  íë¡ì° ê³ ê³ ê³ ~ê¸°ì ìì? ì¬ëìì§ ì¬ëìì? ê¸°ì ìë¤~!   \n",
       "33052                             project design à¹à¸à¹à¸?à¸à¸µà¹à¸à¸µà¸à¸µà¹à¸¡à¸«à¹à¸­à¸­à¸?à¹?à¸à¸à¹à¸£à¸à¸à¸¢à¸²à¸à¸²à¸¥....à¸?à¸³à¸¥à¸±à¸à¸à¸³à¹à¸à¸£à¹?à¸?à¸£à¸¡à¸­à¸¢à¸¹à¹....à¹à¸à¸´à¸?à¹à¸à¸¢à¸¡à¸² comment à¸à¸µà¸?à¸§à¹à¸² 5555function à¹à¸¢à   \n",
       "9482                                   uot;ð¯ ð¿ð¾ð´ð¿ð¸ñ?ð°ð»ñ?ñ? ð½ð° ð²ð°ññ rss ð»ðµð½ññ, ð½ð¾ ñ?ð¾ð¾ð±ñðµð½ð¸ñ? ð¿ð¾ñðµð¼ñ-ñð¾ ð² ð²ð¸ð´ðµ ðºð°ðºð¸ñ -ñð¾ ðºð²ð°ð´ñð°ñð¾ð²ðð°ðº ñ?ñð¾ ð¸ñ?ð¿ñð°ð²ð¸ññ? uot; ðð¾ð¹ñð¸ ð½ð°ñð¸ ð·ð°ð±ñññ ð¿ñð¾ ð¼ð¾ñ rss ))   \n",
       "48299                                           ð´ð¸ñ?ðº ð½ðµ ð¿ñð¾ð²ðµññ?ð», ð½ðµ ð·ð½ð°ñ. ð?ð¾ ð¿ð¾ðºð°ð·ð°ð»ð¾ñ?ñ, ññð¾ backup ð°ð¹ñð¾ð½ð° ð¾ð¿ñ?ññ ð´ðµð»ð°ðµññ?ñ? ð´ð¾ð»ð³ð¾ð² ð¿ñð¾ñð»ð¾ð¹ ð²ðµññ?ð¸ð¸ ð²ñð¾ð´ðµ ð¿ð¾ð¿ñð°ð²ð¸ð»ð¸, ð° ñ?ðµð¹ñð°ñ? ð¾ð¿ñ?ññ!   \n",
       "46098                                                ññ ñ?ðºð¾ñðµðµ ð¿ð¾ñðµññ?ðµññ ð¸ð»ð¸ ð¿ð¾ð¼ðµð½ñ?ðµññ ñðµð»ðµñð¾ð½ ð¿ñðµð¶ð´ðµ ñðµð¼ ñ?ð´ð¾ñ ð½ðµñ ð°ðºðºñð¼ñð»ñ?ñð¾ñðð°ñð¾ ð¿ñð¾ñð½ð¾ñ?ññ ñ?ð±ð¾ñðºð¸ ð±ðµñ?ð¿ð¾ð´ð¾ð±ð½ð°ñ? - ðºð°ðº ð¼ð¾ð½ð¾ð»ð¸ñ!   \n",
       "...                                                                                                                                                                                                                                                                              ...   \n",
       "83232                                                                                                                                                                                                                                                                             ty   \n",
       "37894                                                                                                                                                                                                                                                                             me   \n",
       "27818                                                                                                                                                                                                                                                                            aww   \n",
       "94322                                                                                                                                                                                                                                                                             hi   \n",
       "50440                                                                                                                                                                                                                                                                            t;3   \n",
       "\n",
       "       length  \n",
       "11333     269  \n",
       "33052     242  \n",
       "9482      238  \n",
       "48299     229  \n",
       "46098     224  \n",
       "...       ...  \n",
       "83232       3  \n",
       "37894       3  \n",
       "27818       3  \n",
       "94322       3  \n",
       "50440       3  \n",
       "\n",
       "[99113 rows x 2 columns]"
      ]
     },
     "execution_count": 13,
     "metadata": {},
     "output_type": "execute_result"
    }
   ],
   "source": [
    "new.sort_values(by='length', ascending=False)"
   ]
  },
  {
   "cell_type": "code",
   "execution_count": null,
   "metadata": {},
   "outputs": [],
   "source": []
  },
  {
   "cell_type": "code",
   "execution_count": null,
   "metadata": {},
   "outputs": [],
   "source": []
  },
  {
   "cell_type": "code",
   "execution_count": 68,
   "metadata": {},
   "outputs": [],
   "source": []
  },
  {
   "cell_type": "code",
   "execution_count": 69,
   "metadata": {},
   "outputs": [],
   "source": []
  },
  {
   "cell_type": "code",
   "execution_count": 26,
   "metadata": {},
   "outputs": [
    {
     "data": {
      "text/plain": [
       "<10000x16782 sparse matrix of type '<class 'numpy.int64'>'\n",
       "\twith 62628 stored elements in Compressed Sparse Row format>"
      ]
     },
     "execution_count": 26,
     "metadata": {},
     "output_type": "execute_result"
    }
   ],
   "source": [
    "from sklearn.feature_extraction.text import CountVectorizer\n",
    "\n",
    "cv = CountVectorizer(stop_words='english')\n",
    "data_cv = cv.fit_transform(new.text.head(10000))\n",
    "data_dtm = pd.DataFrame(data_cv.toarray(), columns=cv.get_feature_names())\n",
    "data_dtm.index = new.head(10000).index\n",
    "data_cv"
   ]
  },
  {
   "cell_type": "code",
   "execution_count": 27,
   "metadata": {},
   "outputs": [
    {
     "name": "stdout",
     "output_type": "stream",
     "text": [
      "      00  000  001  007  00am  02  021  04  04pm  05  ...  ð¾ñ  ñð  øª  øªø  \\\n",
      "0      0    0    0    0     0   0    0   0     0   0  ...    0   0   0    0   \n",
      "1      0    0    0    0     0   0    0   0     0   0  ...    0   0   0    0   \n",
      "2      0    0    0    0     0   0    0   0     0   0  ...    0   0   0    0   \n",
      "3      0    0    0    0     0   0    0   0     0   0  ...    0   0   0    0   \n",
      "4      0    0    0    0     0   0    0   0     0   0  ...    0   0   0    0   \n",
      "...   ..  ...  ...  ...   ...  ..  ...  ..   ...  ..  ...  ...  ..  ..  ...   \n",
      "9995   0    0    0    0     0   0    0   0     0   0  ...    0   0   0    0   \n",
      "9996   0    0    0    0     0   0    0   0     0   0  ...    0   0   0    0   \n",
      "9997   0    0    0    0     0   0    0   0     0   0  ...    0   0   0    0   \n",
      "9998   0    0    0    0     0   0    0   0     0   0  ...    0   0   0    0   \n",
      "9999   0    0    0    0     0   0    0   0     0   0  ...    0   0   0    0   \n",
      "\n",
      "      øªùú  ø²û  ø³ø  ø³øªø  øºù  ùø  \n",
      "0        0    0    0      0    0   0  \n",
      "1        0    0    0      0    0   0  \n",
      "2        0    0    0      0    0   0  \n",
      "3        0    0    0      0    0   0  \n",
      "4        0    0    0      0    0   0  \n",
      "...    ...  ...  ...    ...  ...  ..  \n",
      "9995     0    0    0      0    0   0  \n",
      "9996     0    0    0      0    0   0  \n",
      "9997     0    0    0      0    0   0  \n",
      "9998     0    0    0      0    0   0  \n",
      "9999     0    0    0      0    0   0  \n",
      "\n",
      "[10000 rows x 16782 columns]\n"
     ]
    }
   ],
   "source": [
    "print(data_dtm)"
   ]
  },
  {
   "cell_type": "code",
   "execution_count": null,
   "metadata": {},
   "outputs": [],
   "source": []
  },
  {
   "cell_type": "code",
   "execution_count": null,
   "metadata": {},
   "outputs": [],
   "source": []
  }
 ],
 "metadata": {
  "kernelspec": {
   "display_name": "Python 3",
   "language": "python",
   "name": "python3"
  },
  "language_info": {
   "codemirror_mode": {
    "name": "ipython",
    "version": 3
   },
   "file_extension": ".py",
   "mimetype": "text/x-python",
   "name": "python",
   "nbconvert_exporter": "python",
   "pygments_lexer": "ipython3",
   "version": "3.7.4"
  }
 },
 "nbformat": 4,
 "nbformat_minor": 2
}
