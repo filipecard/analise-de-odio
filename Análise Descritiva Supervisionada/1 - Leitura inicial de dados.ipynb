{
 "cells": [
  {
   "cell_type": "markdown",
   "metadata": {},
   "source": [
    "# Importação e organização inicial dos dados"
   ]
  },
  {
   "cell_type": "code",
   "execution_count": 1,
   "metadata": {},
   "outputs": [],
   "source": [
    "import pandas as pd\n",
    "pd.set_option('max_colwidth', 300)"
   ]
  },
  {
   "cell_type": "markdown",
   "metadata": {},
   "source": [
    "# 1 - Importação do arquivo\n",
    "> [Fonte do DataSet](https://www.crowdflower.com/wp-content/uploads/2016/03/twitter-hate-speech-classifier-DFE-a845520.csv)\n",
    "\n",
    "Seleção das colunas relevantes e organização do Data Frame"
   ]
  },
  {
   "cell_type": "code",
   "execution_count": 2,
   "metadata": {},
   "outputs": [],
   "source": [
    "data = pd.read_csv(\n",
    "    \"./arquivos/twitter-hate-speech-classifier-DFE-a845520.csv\", \n",
    "    encoding='ISO-8859-1', \n",
    "    usecols=[\n",
    "        'tweet_text', \n",
    "        'does_this_tweet_contain_hate_speechconfidence', \n",
    "        'does_this_tweet_contain_hate_speech:confidence',\n",
    "        'does_this_tweet_contain_hate_speech'])"
   ]
  },
  {
   "cell_type": "code",
   "execution_count": 3,
   "metadata": {},
   "outputs": [],
   "source": [
    "data = data.rename(columns={\n",
    "    'does_this_tweet_contain_hate_speech:confidence':'confidence',\n",
    "    'does_this_tweet_contain_hate_speechconfidence':'hate_speech:confidence'\n",
    "})"
   ]
  },
  {
   "cell_type": "code",
   "execution_count": 4,
   "metadata": {},
   "outputs": [],
   "source": [
    "data = data.reindex(columns=[\n",
    "    'tweet_text', \n",
    "    'hate_speech:confidence',\n",
    "    'does_this_tweet_contain_hate_speech',\n",
    "    'confidence'])"
   ]
  },
  {
   "cell_type": "code",
   "execution_count": 5,
   "metadata": {},
   "outputs": [
    {
     "data": {
      "text/html": [
       "<div>\n",
       "<style scoped>\n",
       "    .dataframe tbody tr th:only-of-type {\n",
       "        vertical-align: middle;\n",
       "    }\n",
       "\n",
       "    .dataframe tbody tr th {\n",
       "        vertical-align: top;\n",
       "    }\n",
       "\n",
       "    .dataframe thead th {\n",
       "        text-align: right;\n",
       "    }\n",
       "</style>\n",
       "<table border=\"1\" class=\"dataframe\">\n",
       "  <thead>\n",
       "    <tr style=\"text-align: right;\">\n",
       "      <th></th>\n",
       "      <th>tweet_text</th>\n",
       "      <th>hate_speech:confidence</th>\n",
       "      <th>does_this_tweet_contain_hate_speech</th>\n",
       "      <th>confidence</th>\n",
       "    </tr>\n",
       "  </thead>\n",
       "  <tbody>\n",
       "    <tr>\n",
       "      <td>0</td>\n",
       "      <td>Warning: penny boards will make you a faggot</td>\n",
       "      <td>1.0</td>\n",
       "      <td>The tweet uses offensive language but not hate speech</td>\n",
       "      <td>0.6013</td>\n",
       "    </tr>\n",
       "    <tr>\n",
       "      <td>1</td>\n",
       "      <td>Fuck dykes</td>\n",
       "      <td>1.0</td>\n",
       "      <td>The tweet contains hate speech</td>\n",
       "      <td>0.7227</td>\n",
       "    </tr>\n",
       "    <tr>\n",
       "      <td>2</td>\n",
       "      <td>@sizzurp__ @ILIKECATS74 @yoPapi_chulo @brandonernandez @bootyacid at least i dont look like jefree starr faggot</td>\n",
       "      <td>1.0</td>\n",
       "      <td>The tweet contains hate speech</td>\n",
       "      <td>0.5229</td>\n",
       "    </tr>\n",
       "    <tr>\n",
       "      <td>3</td>\n",
       "      <td>\"@jayswaggkillah: \"@JacklynAnnn: @jayswaggkillah Is a fag\" jackie jealous\" Neeeee</td>\n",
       "      <td>1.0</td>\n",
       "      <td>The tweet contains hate speech</td>\n",
       "      <td>0.5184</td>\n",
       "    </tr>\n",
       "    <tr>\n",
       "      <td>4</td>\n",
       "      <td>@Zhugstubble You heard me bitch but any way I'm back th texas so wtf u talking about bitch ass nigga</td>\n",
       "      <td>1.0</td>\n",
       "      <td>The tweet uses offensive language but not hate speech</td>\n",
       "      <td>0.5185</td>\n",
       "    </tr>\n",
       "  </tbody>\n",
       "</table>\n",
       "</div>"
      ],
      "text/plain": [
       "                                                                                                        tweet_text  \\\n",
       "0                                                                     Warning: penny boards will make you a faggot   \n",
       "1                                                                                                       Fuck dykes   \n",
       "2  @sizzurp__ @ILIKECATS74 @yoPapi_chulo @brandonernandez @bootyacid at least i dont look like jefree starr faggot   \n",
       "3                                \"@jayswaggkillah: \"@JacklynAnnn: @jayswaggkillah Is a fag\" jackie jealous\" Neeeee   \n",
       "4             @Zhugstubble You heard me bitch but any way I'm back th texas so wtf u talking about bitch ass nigga   \n",
       "\n",
       "   hate_speech:confidence  \\\n",
       "0                     1.0   \n",
       "1                     1.0   \n",
       "2                     1.0   \n",
       "3                     1.0   \n",
       "4                     1.0   \n",
       "\n",
       "                     does_this_tweet_contain_hate_speech  confidence  \n",
       "0  The tweet uses offensive language but not hate speech      0.6013  \n",
       "1                         The tweet contains hate speech      0.7227  \n",
       "2                         The tweet contains hate speech      0.5229  \n",
       "3                         The tweet contains hate speech      0.5184  \n",
       "4  The tweet uses offensive language but not hate speech      0.5185  "
      ]
     },
     "execution_count": 5,
     "metadata": {},
     "output_type": "execute_result"
    }
   ],
   "source": [
    "data.head()"
   ]
  },
  {
   "cell_type": "code",
   "execution_count": 6,
   "metadata": {},
   "outputs": [
    {
     "data": {
      "text/html": [
       "<div>\n",
       "<style scoped>\n",
       "    .dataframe tbody tr th:only-of-type {\n",
       "        vertical-align: middle;\n",
       "    }\n",
       "\n",
       "    .dataframe tbody tr th {\n",
       "        vertical-align: top;\n",
       "    }\n",
       "\n",
       "    .dataframe thead th {\n",
       "        text-align: right;\n",
       "    }\n",
       "</style>\n",
       "<table border=\"1\" class=\"dataframe\">\n",
       "  <thead>\n",
       "    <tr style=\"text-align: right;\">\n",
       "      <th></th>\n",
       "      <th>hate_speech:confidence</th>\n",
       "      <th>confidence</th>\n",
       "    </tr>\n",
       "  </thead>\n",
       "  <tbody>\n",
       "    <tr>\n",
       "      <td>count</td>\n",
       "      <td>67.0</td>\n",
       "      <td>14509.000000</td>\n",
       "    </tr>\n",
       "    <tr>\n",
       "      <td>mean</td>\n",
       "      <td>1.0</td>\n",
       "      <td>0.865844</td>\n",
       "    </tr>\n",
       "    <tr>\n",
       "      <td>std</td>\n",
       "      <td>0.0</td>\n",
       "      <td>0.178734</td>\n",
       "    </tr>\n",
       "    <tr>\n",
       "      <td>min</td>\n",
       "      <td>1.0</td>\n",
       "      <td>0.333300</td>\n",
       "    </tr>\n",
       "    <tr>\n",
       "      <td>25%</td>\n",
       "      <td>1.0</td>\n",
       "      <td>0.668400</td>\n",
       "    </tr>\n",
       "    <tr>\n",
       "      <td>50%</td>\n",
       "      <td>1.0</td>\n",
       "      <td>1.000000</td>\n",
       "    </tr>\n",
       "    <tr>\n",
       "      <td>75%</td>\n",
       "      <td>1.0</td>\n",
       "      <td>1.000000</td>\n",
       "    </tr>\n",
       "    <tr>\n",
       "      <td>max</td>\n",
       "      <td>1.0</td>\n",
       "      <td>1.000000</td>\n",
       "    </tr>\n",
       "  </tbody>\n",
       "</table>\n",
       "</div>"
      ],
      "text/plain": [
       "       hate_speech:confidence    confidence\n",
       "count                    67.0  14509.000000\n",
       "mean                      1.0      0.865844\n",
       "std                       0.0      0.178734\n",
       "min                       1.0      0.333300\n",
       "25%                       1.0      0.668400\n",
       "50%                       1.0      1.000000\n",
       "75%                       1.0      1.000000\n",
       "max                       1.0      1.000000"
      ]
     },
     "execution_count": 6,
     "metadata": {},
     "output_type": "execute_result"
    }
   ],
   "source": [
    "data.describe()"
   ]
  },
  {
   "cell_type": "markdown",
   "metadata": {},
   "source": [
    "# 2 - Criar novas colunas"
   ]
  },
  {
   "cell_type": "markdown",
   "metadata": {},
   "source": [
    "## Labels\n",
    "\n",
    "Coluna que resume a classificação do tweet em uma letra"
   ]
  },
  {
   "cell_type": "code",
   "execution_count": 7,
   "metadata": {},
   "outputs": [],
   "source": [
    "labels = {\n",
    "    'The tweet uses offensive language but not hate speech': 'O',\n",
    "    'The tweet contains hate speech': 'H',\n",
    "    'The tweet is not offensive': 'N'\n",
    "}\n",
    "data['labels'] = [labels[value[2]] for value in data.values]"
   ]
  },
  {
   "cell_type": "markdown",
   "metadata": {},
   "source": [
    "Remover colunas que não vão trazer mais informações relevantes"
   ]
  },
  {
   "cell_type": "code",
   "execution_count": 8,
   "metadata": {},
   "outputs": [],
   "source": [
    "data = data.drop(columns=['does_this_tweet_contain_hate_speech', 'hate_speech:confidence'])"
   ]
  },
  {
   "cell_type": "markdown",
   "metadata": {},
   "source": [
    "## Length\n",
    "Coluna que informa a quantidade de caracteres em cada tweet"
   ]
  },
  {
   "cell_type": "code",
   "execution_count": 9,
   "metadata": {},
   "outputs": [],
   "source": [
    "data['length'] = [len(value[0]) for value in data.values]"
   ]
  },
  {
   "cell_type": "code",
   "execution_count": 10,
   "metadata": {},
   "outputs": [
    {
     "data": {
      "text/html": [
       "<div>\n",
       "<style scoped>\n",
       "    .dataframe tbody tr th:only-of-type {\n",
       "        vertical-align: middle;\n",
       "    }\n",
       "\n",
       "    .dataframe tbody tr th {\n",
       "        vertical-align: top;\n",
       "    }\n",
       "\n",
       "    .dataframe thead th {\n",
       "        text-align: right;\n",
       "    }\n",
       "</style>\n",
       "<table border=\"1\" class=\"dataframe\">\n",
       "  <thead>\n",
       "    <tr style=\"text-align: right;\">\n",
       "      <th></th>\n",
       "      <th>confidence</th>\n",
       "      <th>length</th>\n",
       "    </tr>\n",
       "  </thead>\n",
       "  <tbody>\n",
       "    <tr>\n",
       "      <td>count</td>\n",
       "      <td>14509.000000</td>\n",
       "      <td>14509.000000</td>\n",
       "    </tr>\n",
       "    <tr>\n",
       "      <td>mean</td>\n",
       "      <td>0.865844</td>\n",
       "      <td>88.857606</td>\n",
       "    </tr>\n",
       "    <tr>\n",
       "      <td>std</td>\n",
       "      <td>0.178734</td>\n",
       "      <td>38.724537</td>\n",
       "    </tr>\n",
       "    <tr>\n",
       "      <td>min</td>\n",
       "      <td>0.333300</td>\n",
       "      <td>4.000000</td>\n",
       "    </tr>\n",
       "    <tr>\n",
       "      <td>25%</td>\n",
       "      <td>0.668400</td>\n",
       "      <td>55.000000</td>\n",
       "    </tr>\n",
       "    <tr>\n",
       "      <td>50%</td>\n",
       "      <td>1.000000</td>\n",
       "      <td>89.000000</td>\n",
       "    </tr>\n",
       "    <tr>\n",
       "      <td>75%</td>\n",
       "      <td>1.000000</td>\n",
       "      <td>125.000000</td>\n",
       "    </tr>\n",
       "    <tr>\n",
       "      <td>max</td>\n",
       "      <td>1.000000</td>\n",
       "      <td>469.000000</td>\n",
       "    </tr>\n",
       "  </tbody>\n",
       "</table>\n",
       "</div>"
      ],
      "text/plain": [
       "         confidence        length\n",
       "count  14509.000000  14509.000000\n",
       "mean       0.865844     88.857606\n",
       "std        0.178734     38.724537\n",
       "min        0.333300      4.000000\n",
       "25%        0.668400     55.000000\n",
       "50%        1.000000     89.000000\n",
       "75%        1.000000    125.000000\n",
       "max        1.000000    469.000000"
      ]
     },
     "execution_count": 10,
     "metadata": {},
     "output_type": "execute_result"
    }
   ],
   "source": [
    "data.describe()"
   ]
  },
  {
   "cell_type": "markdown",
   "metadata": {},
   "source": [
    "# 3 - Visualização Inicial"
   ]
  },
  {
   "cell_type": "markdown",
   "metadata": {},
   "source": [
    ">Porcentagem de tweets por rótulo do dataset"
   ]
  },
  {
   "cell_type": "code",
   "execution_count": 101,
   "metadata": {},
   "outputs": [],
   "source": [
    "labels_count = {}\n",
    "for label in data.labels.unique():\n",
    "    labels_count[label] = {data.where(data.labels==label).count().labels}\n",
    "labels_count = pd.DataFrame.from_dict(labels_count, orient='index')"
   ]
  },
  {
   "cell_type": "code",
   "execution_count": 108,
   "metadata": {},
   "outputs": [
    {
     "data": {
      "text/plain": [
       "array([<matplotlib.axes._subplots.AxesSubplot object at 0x7f3262f90490>],\n",
       "      dtype=object)"
      ]
     },
     "execution_count": 108,
     "metadata": {},
     "output_type": "execute_result"
    },
    {
     "data": {
      "image/png": "[encoded data removed]",
      "text/plain": [
       "<Figure size 576x576 with 1 Axes>"
      ]
     },
     "metadata": {},
     "output_type": "display_data"
    }
   ],
   "source": [
    "labels_count.plot.pie(\n",
    "    labels=[\"Offensive\",\"Hate\",\"Not Offensive\"],\n",
    "    subplots=\"True\", autopct='%.2f', \n",
    "    figsize=(8,8), fontsize=(20))"
   ]
  },
  {
   "cell_type": "code",
   "execution_count": 113,
   "metadata": {},
   "outputs": [
    {
     "data": {
      "text/plain": [
       "<matplotlib.axes._subplots.AxesSubplot at 0x7f32624a2f10>"
      ]
     },
     "execution_count": 113,
     "metadata": {},
     "output_type": "execute_result"
    },
    {
     "data": {
      "image/png": "[encoded data removed]",
      "text/plain": [
       "<Figure size 432x288 with 1 Axes>"
      ]
     },
     "metadata": {
      "needs_background": "light"
     },
     "output_type": "display_data"
    }
   ],
   "source": [
    "labels_count.transpose().plot.bar()"
   ]
  },
  {
   "cell_type": "markdown",
   "metadata": {},
   "source": [
    "# 4 - Exemplo de filtragem de dados"
   ]
  },
  {
   "cell_type": "code",
   "execution_count": 11,
   "metadata": {},
   "outputs": [],
   "source": [
    "hate_data = pd.DataFrame.from_dict(\n",
    "    [dict(zip(data.columns,v))for v in data.values if v[2]=='H']\n",
    ")"
   ]
  },
  {
   "cell_type": "code",
   "execution_count": 12,
   "metadata": {},
   "outputs": [
    {
     "data": {
      "text/html": [
       "<div>\n",
       "<style scoped>\n",
       "    .dataframe tbody tr th:only-of-type {\n",
       "        vertical-align: middle;\n",
       "    }\n",
       "\n",
       "    .dataframe tbody tr th {\n",
       "        vertical-align: top;\n",
       "    }\n",
       "\n",
       "    .dataframe thead th {\n",
       "        text-align: right;\n",
       "    }\n",
       "</style>\n",
       "<table border=\"1\" class=\"dataframe\">\n",
       "  <thead>\n",
       "    <tr style=\"text-align: right;\">\n",
       "      <th></th>\n",
       "      <th>tweet_text</th>\n",
       "      <th>confidence</th>\n",
       "      <th>labels</th>\n",
       "      <th>length</th>\n",
       "    </tr>\n",
       "  </thead>\n",
       "  <tbody>\n",
       "    <tr>\n",
       "      <td>0</td>\n",
       "      <td>Fuck dykes</td>\n",
       "      <td>0.7227</td>\n",
       "      <td>H</td>\n",
       "      <td>10</td>\n",
       "    </tr>\n",
       "    <tr>\n",
       "      <td>1</td>\n",
       "      <td>@sizzurp__ @ILIKECATS74 @yoPapi_chulo @brandonernandez @bootyacid at least i dont look like jefree starr faggot</td>\n",
       "      <td>0.5229</td>\n",
       "      <td>H</td>\n",
       "      <td>111</td>\n",
       "    </tr>\n",
       "    <tr>\n",
       "      <td>2</td>\n",
       "      <td>\"@jayswaggkillah: \"@JacklynAnnn: @jayswaggkillah Is a fag\" jackie jealous\" Neeeee</td>\n",
       "      <td>0.5184</td>\n",
       "      <td>H</td>\n",
       "      <td>81</td>\n",
       "    </tr>\n",
       "    <tr>\n",
       "      <td>3</td>\n",
       "      <td>@elaynay your a dirty terrorist and your religion is a fucking joke, you go around screaming Allah akbar doing terrorist shit. Dirty faggot.</td>\n",
       "      <td>0.8816</td>\n",
       "      <td>H</td>\n",
       "      <td>140</td>\n",
       "    </tr>\n",
       "    <tr>\n",
       "      <td>4</td>\n",
       "      <td>RT @ivanrabago_: @_WhitePonyJr_ looking like faggots?</td>\n",
       "      <td>0.5207</td>\n",
       "      <td>H</td>\n",
       "      <td>53</td>\n",
       "    </tr>\n",
       "    <tr>\n",
       "      <td>...</td>\n",
       "      <td>...</td>\n",
       "      <td>...</td>\n",
       "      <td>...</td>\n",
       "      <td>...</td>\n",
       "    </tr>\n",
       "    <tr>\n",
       "      <td>2394</td>\n",
       "      <td>@PoliticsPeach @ArmAndProtect @AbolishWelfare @NIX1331_ @Likaveli The coon preachers that met w Trump also still have followers. Travesty _Ì«ÌÐå©</td>\n",
       "      <td>0.6718</td>\n",
       "      <td>H</td>\n",
       "      <td>145</td>\n",
       "    </tr>\n",
       "    <tr>\n",
       "      <td>2395</td>\n",
       "      <td>@Huscoon Coon~</td>\n",
       "      <td>0.6598</td>\n",
       "      <td>H</td>\n",
       "      <td>14</td>\n",
       "    </tr>\n",
       "    <tr>\n",
       "      <td>2396</td>\n",
       "      <td>@AS_Waffloid *u dam coon</td>\n",
       "      <td>0.6717</td>\n",
       "      <td>H</td>\n",
       "      <td>24</td>\n",
       "    </tr>\n",
       "    <tr>\n",
       "      <td>2397</td>\n",
       "      <td>Ben Carson thinks it's okay to have A confederate flag hanging on your property this nigglet is the biggest coon ever lol where his mother?</td>\n",
       "      <td>0.6684</td>\n",
       "      <td>H</td>\n",
       "      <td>139</td>\n",
       "    </tr>\n",
       "    <tr>\n",
       "      <td>2398</td>\n",
       "      <td>From what I've seen men and women coon at the same rate.</td>\n",
       "      <td>0.6633</td>\n",
       "      <td>H</td>\n",
       "      <td>56</td>\n",
       "    </tr>\n",
       "  </tbody>\n",
       "</table>\n",
       "<p>2399 rows × 4 columns</p>\n",
       "</div>"
      ],
      "text/plain": [
       "                                                                                                                                             tweet_text  \\\n",
       "0                                                                                                                                            Fuck dykes   \n",
       "1                                       @sizzurp__ @ILIKECATS74 @yoPapi_chulo @brandonernandez @bootyacid at least i dont look like jefree starr faggot   \n",
       "2                                                                     \"@jayswaggkillah: \"@JacklynAnnn: @jayswaggkillah Is a fag\" jackie jealous\" Neeeee   \n",
       "3          @elaynay your a dirty terrorist and your religion is a fucking joke, you go around screaming Allah akbar doing terrorist shit. Dirty faggot.   \n",
       "4                                                                                                 RT @ivanrabago_: @_WhitePonyJr_ looking like faggots?   \n",
       "...                                                                                                                                                 ...   \n",
       "2394  @PoliticsPeach @ArmAndProtect @AbolishWelfare @NIX1331_ @Likaveli The coon preachers that met w Trump also still have followers. Travesty _Ì«ÌÐå©   \n",
       "2395                                                                                                                                     @Huscoon Coon~   \n",
       "2396                                                                                                                           @AS_Waffloid *u dam coon   \n",
       "2397        Ben Carson thinks it's okay to have A confederate flag hanging on your property this nigglet is the biggest coon ever lol where his mother?   \n",
       "2398                                                                                           From what I've seen men and women coon at the same rate.   \n",
       "\n",
       "      confidence labels  length  \n",
       "0         0.7227      H      10  \n",
       "1         0.5229      H     111  \n",
       "2         0.5184      H      81  \n",
       "3         0.8816      H     140  \n",
       "4         0.5207      H      53  \n",
       "...          ...    ...     ...  \n",
       "2394      0.6718      H     145  \n",
       "2395      0.6598      H      14  \n",
       "2396      0.6717      H      24  \n",
       "2397      0.6684      H     139  \n",
       "2398      0.6633      H      56  \n",
       "\n",
       "[2399 rows x 4 columns]"
      ]
     },
     "execution_count": 12,
     "metadata": {},
     "output_type": "execute_result"
    }
   ],
   "source": [
    "hate_data"
   ]
  },
  {
   "cell_type": "markdown",
   "metadata": {},
   "source": [
    "Fazer correlação da confidência e a quantidade de caracteres"
   ]
  },
  {
   "cell_type": "code",
   "execution_count": 13,
   "metadata": {},
   "outputs": [],
   "source": [
    "graph = dict(zip(hate_data['confidence'], hate_data.length))\n",
    "graph = pd.DataFrame.from_dict(graph, orient='index')"
   ]
  },
  {
   "cell_type": "code",
   "execution_count": 14,
   "metadata": {},
   "outputs": [
    {
     "data": {
      "text/html": [
       "<div>\n",
       "<style scoped>\n",
       "    .dataframe tbody tr th:only-of-type {\n",
       "        vertical-align: middle;\n",
       "    }\n",
       "\n",
       "    .dataframe tbody tr th {\n",
       "        vertical-align: top;\n",
       "    }\n",
       "\n",
       "    .dataframe thead th {\n",
       "        text-align: right;\n",
       "    }\n",
       "</style>\n",
       "<table border=\"1\" class=\"dataframe\">\n",
       "  <thead>\n",
       "    <tr style=\"text-align: right;\">\n",
       "      <th></th>\n",
       "      <th>0</th>\n",
       "    </tr>\n",
       "  </thead>\n",
       "  <tbody>\n",
       "    <tr>\n",
       "      <td>0.3365</td>\n",
       "      <td>50</td>\n",
       "    </tr>\n",
       "    <tr>\n",
       "      <td>0.3367</td>\n",
       "      <td>37</td>\n",
       "    </tr>\n",
       "    <tr>\n",
       "      <td>0.3368</td>\n",
       "      <td>72</td>\n",
       "    </tr>\n",
       "    <tr>\n",
       "      <td>0.3382</td>\n",
       "      <td>94</td>\n",
       "    </tr>\n",
       "    <tr>\n",
       "      <td>0.3383</td>\n",
       "      <td>58</td>\n",
       "    </tr>\n",
       "    <tr>\n",
       "      <td>...</td>\n",
       "      <td>...</td>\n",
       "    </tr>\n",
       "    <tr>\n",
       "      <td>0.8435</td>\n",
       "      <td>23</td>\n",
       "    </tr>\n",
       "    <tr>\n",
       "      <td>0.8816</td>\n",
       "      <td>140</td>\n",
       "    </tr>\n",
       "    <tr>\n",
       "      <td>0.8826</td>\n",
       "      <td>105</td>\n",
       "    </tr>\n",
       "    <tr>\n",
       "      <td>0.9221</td>\n",
       "      <td>57</td>\n",
       "    </tr>\n",
       "    <tr>\n",
       "      <td>1.0000</td>\n",
       "      <td>34</td>\n",
       "    </tr>\n",
       "  </tbody>\n",
       "</table>\n",
       "<p>166 rows × 1 columns</p>\n",
       "</div>"
      ],
      "text/plain": [
       "          0\n",
       "0.3365   50\n",
       "0.3367   37\n",
       "0.3368   72\n",
       "0.3382   94\n",
       "0.3383   58\n",
       "...     ...\n",
       "0.8435   23\n",
       "0.8816  140\n",
       "0.8826  105\n",
       "0.9221   57\n",
       "1.0000   34\n",
       "\n",
       "[166 rows x 1 columns]"
      ]
     },
     "execution_count": 14,
     "metadata": {},
     "output_type": "execute_result"
    }
   ],
   "source": [
    "graph.sort_index()"
   ]
  },
  {
   "cell_type": "code",
   "execution_count": 15,
   "metadata": {},
   "outputs": [
    {
     "data": {
      "text/plain": [
       "<matplotlib.collections.PathCollection at 0x7f326997ee90>"
      ]
     },
     "execution_count": 15,
     "metadata": {},
     "output_type": "execute_result"
    }
   ],
   "source": [
    "import matplotlib.pyplot as plt\n",
    "plt.scatter(hate_data['confidence'], hate_data.length)"
   ]
  },
  {
   "cell_type": "markdown",
   "metadata": {},
   "source": [
    "# 4 - Salvar dados"
   ]
  },
  {
   "cell_type": "code",
   "execution_count": 16,
   "metadata": {},
   "outputs": [],
   "source": [
    "data.to_csv('./arquivos/data.csv', encoding='ISO-8859-1', index=False)"
   ]
  },
  {
   "cell_type": "code",
   "execution_count": null,
   "metadata": {},
   "outputs": [],
   "source": []
  }
 ],
 "metadata": {
  "kernelspec": {
   "display_name": "Python 3",
   "language": "python",
   "name": "python3"
  },
  "language_info": {
   "codemirror_mode": {
    "name": "ipython",
    "version": 3
   },
   "file_extension": ".py",
   "mimetype": "text/x-python",
   "name": "python",
   "nbconvert_exporter": "python",
   "pygments_lexer": "ipython3",
   "version": "3.7.4"
  }
 },
 "nbformat": 4,
 "nbformat_minor": 2
}
