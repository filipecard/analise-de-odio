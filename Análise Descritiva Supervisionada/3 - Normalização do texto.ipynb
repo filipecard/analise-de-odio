{
 "cells": [
  {
   "cell_type": "markdown",
   "metadata": {},
   "source": [
    "# Normalização do texto"
   ]
  },
  {
   "cell_type": "markdown",
   "metadata": {},
   "source": [
    "## 1- Importação do dataset"
   ]
  },
  {
   "cell_type": "code",
   "execution_count": 27,
   "metadata": {},
   "outputs": [],
   "source": [
    "import pandas as pd\n",
    "pd.set_option('max_colwidth', 300)"
   ]
  },
  {
   "cell_type": "code",
   "execution_count": 37,
   "metadata": {},
   "outputs": [],
   "source": [
    "data = pd.read_csv('./arquivos/clean_with_tags.csv', encoding='ISO-8859-1')"
   ]
  },
  {
   "cell_type": "code",
   "execution_count": 38,
   "metadata": {},
   "outputs": [
    {
     "data": {
      "text/html": [
       "<div>\n",
       "<style scoped>\n",
       "    .dataframe tbody tr th:only-of-type {\n",
       "        vertical-align: middle;\n",
       "    }\n",
       "\n",
       "    .dataframe tbody tr th {\n",
       "        vertical-align: top;\n",
       "    }\n",
       "\n",
       "    .dataframe thead th {\n",
       "        text-align: right;\n",
       "    }\n",
       "</style>\n",
       "<table border=\"1\" class=\"dataframe\">\n",
       "  <thead>\n",
       "    <tr style=\"text-align: right;\">\n",
       "      <th></th>\n",
       "      <th>confidence</th>\n",
       "      <th>labels</th>\n",
       "      <th>length</th>\n",
       "      <th>tweet_text</th>\n",
       "    </tr>\n",
       "  </thead>\n",
       "  <tbody>\n",
       "    <tr>\n",
       "      <td>0</td>\n",
       "      <td>0.6013</td>\n",
       "      <td>O</td>\n",
       "      <td>43</td>\n",
       "      <td>warning penny boards will make you a faggot</td>\n",
       "    </tr>\n",
       "    <tr>\n",
       "      <td>1</td>\n",
       "      <td>0.7227</td>\n",
       "      <td>H</td>\n",
       "      <td>10</td>\n",
       "      <td>fuck dykes</td>\n",
       "    </tr>\n",
       "    <tr>\n",
       "      <td>2</td>\n",
       "      <td>0.5229</td>\n",
       "      <td>H</td>\n",
       "      <td>95</td>\n",
       "      <td>XmentionX XmentionX XmentionX XmentionX XmentionX at least i dont look like jefree starr faggot</td>\n",
       "    </tr>\n",
       "    <tr>\n",
       "      <td>3</td>\n",
       "      <td>0.5184</td>\n",
       "      <td>H</td>\n",
       "      <td>58</td>\n",
       "      <td>XmentionX XmentionX XmentionX is a fag jackie jealous nee</td>\n",
       "    </tr>\n",
       "    <tr>\n",
       "      <td>4</td>\n",
       "      <td>0.5185</td>\n",
       "      <td>O</td>\n",
       "      <td>96</td>\n",
       "      <td>XmentionX you heard me bitch but any way im back th texas so wtf u talking about bitch ass nigga</td>\n",
       "    </tr>\n",
       "    <tr>\n",
       "      <td>5</td>\n",
       "      <td>0.8816</td>\n",
       "      <td>H</td>\n",
       "      <td>139</td>\n",
       "      <td>XmentionX your a dirty terrorist and your religion is a fucking joke you go around screaming allah akbar doing terrorist shit dirty faggot</td>\n",
       "    </tr>\n",
       "    <tr>\n",
       "      <td>6</td>\n",
       "      <td>0.5207</td>\n",
       "      <td>H</td>\n",
       "      <td>44</td>\n",
       "      <td>rt XmentionX XmentionX looking like faggots</td>\n",
       "    </tr>\n",
       "    <tr>\n",
       "      <td>7</td>\n",
       "      <td>0.5619</td>\n",
       "      <td>H</td>\n",
       "      <td>118</td>\n",
       "      <td>well i thought you knew actually rt XmentionX man why yall didnt tell me i was a dick riding ass faggot yall not real</td>\n",
       "    </tr>\n",
       "    <tr>\n",
       "      <td>8</td>\n",
       "      <td>0.6419</td>\n",
       "      <td>O</td>\n",
       "      <td>38</td>\n",
       "      <td>XmentionX i know it was a joke faggot</td>\n",
       "    </tr>\n",
       "    <tr>\n",
       "      <td>9</td>\n",
       "      <td>0.6407</td>\n",
       "      <td>O</td>\n",
       "      <td>102</td>\n",
       "      <td>im tired of people saying i look like my brother calling me deondre like serious succ my ass fag asses</td>\n",
       "    </tr>\n",
       "    <tr>\n",
       "      <td>10</td>\n",
       "      <td>0.7619</td>\n",
       "      <td>H</td>\n",
       "      <td>125</td>\n",
       "      <td>voteblue2014 yeah cuz 8 million people in faggot ass newyork are chickenshit jews fuck them right fuck bibi netanyahu right</td>\n",
       "    </tr>\n",
       "    <tr>\n",
       "      <td>11</td>\n",
       "      <td>0.5606</td>\n",
       "      <td>H</td>\n",
       "      <td>62</td>\n",
       "      <td>XmentionX word is you use roids stupid hypocrite lying faggot</td>\n",
       "    </tr>\n",
       "    <tr>\n",
       "      <td>12</td>\n",
       "      <td>0.8435</td>\n",
       "      <td>H</td>\n",
       "      <td>23</td>\n",
       "      <td>i hate faggots like you</td>\n",
       "    </tr>\n",
       "    <tr>\n",
       "      <td>13</td>\n",
       "      <td>0.8414</td>\n",
       "      <td>H</td>\n",
       "      <td>95</td>\n",
       "      <td>XmentionX shut up nigger whore hope u get raped by one of those animals might change your tune</td>\n",
       "    </tr>\n",
       "    <tr>\n",
       "      <td>14</td>\n",
       "      <td>0.8826</td>\n",
       "      <td>H</td>\n",
       "      <td>107</td>\n",
       "      <td>XmentionX XmentionX fuck you nigger sheboon hope you r strung up like all niggers should be whitepower 1488</td>\n",
       "    </tr>\n",
       "  </tbody>\n",
       "</table>\n",
       "</div>"
      ],
      "text/plain": [
       "    confidence labels  length  \\\n",
       "0       0.6013      O      43   \n",
       "1       0.7227      H      10   \n",
       "2       0.5229      H      95   \n",
       "3       0.5184      H      58   \n",
       "4       0.5185      O      96   \n",
       "5       0.8816      H     139   \n",
       "6       0.5207      H      44   \n",
       "7       0.5619      H     118   \n",
       "8       0.6419      O      38   \n",
       "9       0.6407      O     102   \n",
       "10      0.7619      H     125   \n",
       "11      0.5606      H      62   \n",
       "12      0.8435      H      23   \n",
       "13      0.8414      H      95   \n",
       "14      0.8826      H     107   \n",
       "\n",
       "                                                                                                                                     tweet_text  \n",
       "0                                                                                                   warning penny boards will make you a faggot  \n",
       "1                                                                                                                                    fuck dykes  \n",
       "2                                               XmentionX XmentionX XmentionX XmentionX XmentionX at least i dont look like jefree starr faggot  \n",
       "3                                                                                     XmentionX XmentionX XmentionX is a fag jackie jealous nee  \n",
       "4                                              XmentionX you heard me bitch but any way im back th texas so wtf u talking about bitch ass nigga  \n",
       "5   XmentionX your a dirty terrorist and your religion is a fucking joke you go around screaming allah akbar doing terrorist shit dirty faggot   \n",
       "6                                                                                                  rt XmentionX XmentionX looking like faggots   \n",
       "7                        well i thought you knew actually rt XmentionX man why yall didnt tell me i was a dick riding ass faggot yall not real   \n",
       "8                                                                                                        XmentionX i know it was a joke faggot   \n",
       "9                                        im tired of people saying i look like my brother calling me deondre like serious succ my ass fag asses  \n",
       "10                 voteblue2014 yeah cuz 8 million people in faggot ass newyork are chickenshit jews fuck them right fuck bibi netanyahu right   \n",
       "11                                                                               XmentionX word is you use roids stupid hypocrite lying faggot   \n",
       "12                                                                                                                      i hate faggots like you  \n",
       "13                                              XmentionX shut up nigger whore hope u get raped by one of those animals might change your tune   \n",
       "14                                  XmentionX XmentionX fuck you nigger sheboon hope you r strung up like all niggers should be whitepower 1488  "
      ]
     },
     "execution_count": 38,
     "metadata": {},
     "output_type": "execute_result"
    }
   ],
   "source": [
    "data.head(15)"
   ]
  },
  {
   "cell_type": "markdown",
   "metadata": {},
   "source": [
    "## 2- Tokenização"
   ]
  },
  {
   "cell_type": "code",
   "execution_count": 39,
   "metadata": {},
   "outputs": [],
   "source": [
    "import nltk"
   ]
  },
  {
   "cell_type": "code",
   "execution_count": 40,
   "metadata": {},
   "outputs": [],
   "source": [
    "corpus = \" \".join(tweet for tweet in data.tweet_text)"
   ]
  },
  {
   "cell_type": "code",
   "execution_count": 41,
   "metadata": {},
   "outputs": [],
   "source": [
    "words = nltk.word_tokenize(corpus)"
   ]
  },
  {
   "cell_type": "code",
   "execution_count": 42,
   "metadata": {},
   "outputs": [
    {
     "name": "stdout",
     "output_type": "stream",
     "text": [
      "['warning', 'penny', 'boards', 'will', 'make', 'you', 'a', 'faggot', 'fuck', 'dykes', 'XmentionX', 'XmentionX', 'XmentionX', 'XmentionX', 'XmentionX', 'at', 'least', 'i', 'dont', 'look', 'like', 'jefree', 'starr', 'faggot', 'XmentionX', 'XmentionX', 'XmentionX', 'is', 'a', 'fag', 'jackie', 'jealous', 'nee', 'XmentionX', 'you', 'heard', 'me', 'bitch', 'but', 'any', 'way', 'im', 'back', 'th', 'texas', 'so', 'wtf', 'u', 'talking', 'about', 'bitch', 'ass', 'nigga', 'XmentionX', 'your', 'a', 'dirty', 'terrorist', 'and', 'your', 'religion', 'is', 'a', 'fucking', 'joke', 'you', 'go', 'around', 'screaming', 'allah', 'akbar', 'doing', 'terrorist', 'shit', 'dirty', 'faggot', 'rt', 'XmentionX', 'XmentionX', 'looking', 'like', 'faggots', 'well', 'i', 'thought', 'you', 'knew', 'actually', 'rt', 'XmentionX', 'man', 'why', 'yall', 'didnt', 'tell', 'me', 'i', 'was', 'a', 'dick']\n"
     ]
    }
   ],
   "source": [
    "print(words[:100])"
   ]
  },
  {
   "cell_type": "code",
   "execution_count": 43,
   "metadata": {},
   "outputs": [],
   "source": [
    "data_tk = pd.DataFrame.from_dict(data.tweet_text.apply(nltk.word_tokenize))\n",
    "data_tk['words_count'] = pd.DataFrame.from_dict(data_tk.tweet_text.apply(len))\n",
    "data_tk['label'] = data.labels"
   ]
  },
  {
   "cell_type": "markdown",
   "metadata": {},
   "source": [
    "Contagem de palavras"
   ]
  },
  {
   "cell_type": "code",
   "execution_count": 44,
   "metadata": {},
   "outputs": [
    {
     "data": {
      "text/html": [
       "<div>\n",
       "<style scoped>\n",
       "    .dataframe tbody tr th:only-of-type {\n",
       "        vertical-align: middle;\n",
       "    }\n",
       "\n",
       "    .dataframe tbody tr th {\n",
       "        vertical-align: top;\n",
       "    }\n",
       "\n",
       "    .dataframe thead th {\n",
       "        text-align: right;\n",
       "    }\n",
       "</style>\n",
       "<table border=\"1\" class=\"dataframe\">\n",
       "  <thead>\n",
       "    <tr style=\"text-align: right;\">\n",
       "      <th></th>\n",
       "      <th>tweet_text</th>\n",
       "      <th>words_count</th>\n",
       "      <th>label</th>\n",
       "    </tr>\n",
       "  </thead>\n",
       "  <tbody>\n",
       "    <tr>\n",
       "      <td>0</td>\n",
       "      <td>[warning, penny, boards, will, make, you, a, faggot]</td>\n",
       "      <td>8</td>\n",
       "      <td>O</td>\n",
       "    </tr>\n",
       "    <tr>\n",
       "      <td>1</td>\n",
       "      <td>[fuck, dykes]</td>\n",
       "      <td>2</td>\n",
       "      <td>H</td>\n",
       "    </tr>\n",
       "    <tr>\n",
       "      <td>2</td>\n",
       "      <td>[XmentionX, XmentionX, XmentionX, XmentionX, XmentionX, at, least, i, dont, look, like, jefree, starr, faggot]</td>\n",
       "      <td>14</td>\n",
       "      <td>H</td>\n",
       "    </tr>\n",
       "    <tr>\n",
       "      <td>3</td>\n",
       "      <td>[XmentionX, XmentionX, XmentionX, is, a, fag, jackie, jealous, nee]</td>\n",
       "      <td>9</td>\n",
       "      <td>H</td>\n",
       "    </tr>\n",
       "    <tr>\n",
       "      <td>4</td>\n",
       "      <td>[XmentionX, you, heard, me, bitch, but, any, way, im, back, th, texas, so, wtf, u, talking, about, bitch, ass, nigga]</td>\n",
       "      <td>20</td>\n",
       "      <td>O</td>\n",
       "    </tr>\n",
       "    <tr>\n",
       "      <td>...</td>\n",
       "      <td>...</td>\n",
       "      <td>...</td>\n",
       "      <td>...</td>\n",
       "    </tr>\n",
       "    <tr>\n",
       "      <td>14504</td>\n",
       "      <td>[im, sorry, did, i, offend, your, white, supremacist, aryan, nation, neo, nazi, best, fascist, friends, somehow, XmentionX, XlinkX]</td>\n",
       "      <td>18</td>\n",
       "      <td>N</td>\n",
       "    </tr>\n",
       "    <tr>\n",
       "      <td>14505</td>\n",
       "      <td>[XmentionX, caucasian, euro, aryan, whatever, really, doesnt, matter, theyre, damn, sure, not, white]</td>\n",
       "      <td>13</td>\n",
       "      <td>N</td>\n",
       "    </tr>\n",
       "    <tr>\n",
       "      <td>14506</td>\n",
       "      <td>[XmentionX, sir, a, patient, named, aryan, khan, village, meeranpur, pratapgarh, who, is, suffering, from, like, dengu, has, refferd, to, sgpgi, lko, help]</td>\n",
       "      <td>22</td>\n",
       "      <td>N</td>\n",
       "    </tr>\n",
       "    <tr>\n",
       "      <td>14507</td>\n",
       "      <td>[XmentionX, happy, birthday, bro, have, an, happy, year, ahead]</td>\n",
       "      <td>9</td>\n",
       "      <td>N</td>\n",
       "    </tr>\n",
       "    <tr>\n",
       "      <td>14508</td>\n",
       "      <td>[XmentionX, aryan, kapoor, is, such, a, cute, name, tho, d, we, want, k, s, first, look]</td>\n",
       "      <td>16</td>\n",
       "      <td>N</td>\n",
       "    </tr>\n",
       "  </tbody>\n",
       "</table>\n",
       "<p>14509 rows × 3 columns</p>\n",
       "</div>"
      ],
      "text/plain": [
       "                                                                                                                                                        tweet_text  \\\n",
       "0                                                                                                             [warning, penny, boards, will, make, you, a, faggot]   \n",
       "1                                                                                                                                                    [fuck, dykes]   \n",
       "2                                                   [XmentionX, XmentionX, XmentionX, XmentionX, XmentionX, at, least, i, dont, look, like, jefree, starr, faggot]   \n",
       "3                                                                                              [XmentionX, XmentionX, XmentionX, is, a, fag, jackie, jealous, nee]   \n",
       "4                                            [XmentionX, you, heard, me, bitch, but, any, way, im, back, th, texas, so, wtf, u, talking, about, bitch, ass, nigga]   \n",
       "...                                                                                                                                                            ...   \n",
       "14504                          [im, sorry, did, i, offend, your, white, supremacist, aryan, nation, neo, nazi, best, fascist, friends, somehow, XmentionX, XlinkX]   \n",
       "14505                                                        [XmentionX, caucasian, euro, aryan, whatever, really, doesnt, matter, theyre, damn, sure, not, white]   \n",
       "14506  [XmentionX, sir, a, patient, named, aryan, khan, village, meeranpur, pratapgarh, who, is, suffering, from, like, dengu, has, refferd, to, sgpgi, lko, help]   \n",
       "14507                                                                                              [XmentionX, happy, birthday, bro, have, an, happy, year, ahead]   \n",
       "14508                                                                     [XmentionX, aryan, kapoor, is, such, a, cute, name, tho, d, we, want, k, s, first, look]   \n",
       "\n",
       "       words_count label  \n",
       "0                8     O  \n",
       "1                2     H  \n",
       "2               14     H  \n",
       "3                9     H  \n",
       "4               20     O  \n",
       "...            ...   ...  \n",
       "14504           18     N  \n",
       "14505           13     N  \n",
       "14506           22     N  \n",
       "14507            9     N  \n",
       "14508           16     N  \n",
       "\n",
       "[14509 rows x 3 columns]"
      ]
     },
     "execution_count": 44,
     "metadata": {},
     "output_type": "execute_result"
    }
   ],
   "source": [
    "data_tk"
   ]
  },
  {
   "cell_type": "code",
   "execution_count": 45,
   "metadata": {},
   "outputs": [],
   "source": [
    "data_tk.to_pickle(\"./arquivos/pickle/data_tk.plk\")"
   ]
  },
  {
   "cell_type": "code",
   "execution_count": 46,
   "metadata": {},
   "outputs": [
    {
     "data": {
      "text/html": [
       "<div>\n",
       "<style scoped>\n",
       "    .dataframe tbody tr th:only-of-type {\n",
       "        vertical-align: middle;\n",
       "    }\n",
       "\n",
       "    .dataframe tbody tr th {\n",
       "        vertical-align: top;\n",
       "    }\n",
       "\n",
       "    .dataframe thead th {\n",
       "        text-align: right;\n",
       "    }\n",
       "</style>\n",
       "<table border=\"1\" class=\"dataframe\">\n",
       "  <thead>\n",
       "    <tr style=\"text-align: right;\">\n",
       "      <th></th>\n",
       "      <th>words_count</th>\n",
       "    </tr>\n",
       "  </thead>\n",
       "  <tbody>\n",
       "    <tr>\n",
       "      <td>count</td>\n",
       "      <td>14509.000000</td>\n",
       "    </tr>\n",
       "    <tr>\n",
       "      <td>mean</td>\n",
       "      <td>14.528500</td>\n",
       "    </tr>\n",
       "    <tr>\n",
       "      <td>std</td>\n",
       "      <td>6.711704</td>\n",
       "    </tr>\n",
       "    <tr>\n",
       "      <td>min</td>\n",
       "      <td>1.000000</td>\n",
       "    </tr>\n",
       "    <tr>\n",
       "      <td>25%</td>\n",
       "      <td>9.000000</td>\n",
       "    </tr>\n",
       "    <tr>\n",
       "      <td>50%</td>\n",
       "      <td>14.000000</td>\n",
       "    </tr>\n",
       "    <tr>\n",
       "      <td>75%</td>\n",
       "      <td>20.000000</td>\n",
       "    </tr>\n",
       "    <tr>\n",
       "      <td>max</td>\n",
       "      <td>34.000000</td>\n",
       "    </tr>\n",
       "  </tbody>\n",
       "</table>\n",
       "</div>"
      ],
      "text/plain": [
       "        words_count\n",
       "count  14509.000000\n",
       "mean      14.528500\n",
       "std        6.711704\n",
       "min        1.000000\n",
       "25%        9.000000\n",
       "50%       14.000000\n",
       "75%       20.000000\n",
       "max       34.000000"
      ]
     },
     "execution_count": 46,
     "metadata": {},
     "output_type": "execute_result"
    }
   ],
   "source": [
    "data_tk.describe()"
   ]
  },
  {
   "cell_type": "markdown",
   "metadata": {},
   "source": [
    "Palavras mais usadas"
   ]
  },
  {
   "cell_type": "code",
   "execution_count": 47,
   "metadata": {},
   "outputs": [],
   "source": [
    "total_words = nltk.FreqDist(words)"
   ]
  },
  {
   "cell_type": "code",
   "execution_count": 48,
   "metadata": {},
   "outputs": [
    {
     "data": {
      "text/plain": [
       "FreqDist({'XmentionX': 8517, 'a': 5868, 'the': 5048, 'you': 4761, 'i': 4376, 'to': 4231, 'XlinkX': 3892, 'and': 3355, 'is': 2527, 'of': 2440, ...})"
      ]
     },
     "execution_count": 48,
     "metadata": {},
     "output_type": "execute_result"
    }
   ],
   "source": [
    "total_words"
   ]
  },
  {
   "cell_type": "code",
   "execution_count": 49,
   "metadata": {},
   "outputs": [],
   "source": [
    "total = pd.DataFrame.from_dict(total_words, orient='index', columns=['count'])"
   ]
  },
  {
   "cell_type": "code",
   "execution_count": 50,
   "metadata": {},
   "outputs": [
    {
     "data": {
      "text/html": [
       "<div>\n",
       "<style scoped>\n",
       "    .dataframe tbody tr th:only-of-type {\n",
       "        vertical-align: middle;\n",
       "    }\n",
       "\n",
       "    .dataframe tbody tr th {\n",
       "        vertical-align: top;\n",
       "    }\n",
       "\n",
       "    .dataframe thead th {\n",
       "        text-align: right;\n",
       "    }\n",
       "</style>\n",
       "<table border=\"1\" class=\"dataframe\">\n",
       "  <thead>\n",
       "    <tr style=\"text-align: right;\">\n",
       "      <th></th>\n",
       "      <th>count</th>\n",
       "    </tr>\n",
       "  </thead>\n",
       "  <tbody>\n",
       "    <tr>\n",
       "      <td>count</td>\n",
       "      <td>17175.000000</td>\n",
       "    </tr>\n",
       "    <tr>\n",
       "      <td>mean</td>\n",
       "      <td>12.273304</td>\n",
       "    </tr>\n",
       "    <tr>\n",
       "      <td>std</td>\n",
       "      <td>131.501675</td>\n",
       "    </tr>\n",
       "    <tr>\n",
       "      <td>min</td>\n",
       "      <td>1.000000</td>\n",
       "    </tr>\n",
       "    <tr>\n",
       "      <td>25%</td>\n",
       "      <td>1.000000</td>\n",
       "    </tr>\n",
       "    <tr>\n",
       "      <td>50%</td>\n",
       "      <td>1.000000</td>\n",
       "    </tr>\n",
       "    <tr>\n",
       "      <td>75%</td>\n",
       "      <td>3.000000</td>\n",
       "    </tr>\n",
       "    <tr>\n",
       "      <td>max</td>\n",
       "      <td>8517.000000</td>\n",
       "    </tr>\n",
       "  </tbody>\n",
       "</table>\n",
       "</div>"
      ],
      "text/plain": [
       "              count\n",
       "count  17175.000000\n",
       "mean      12.273304\n",
       "std      131.501675\n",
       "min        1.000000\n",
       "25%        1.000000\n",
       "50%        1.000000\n",
       "75%        3.000000\n",
       "max     8517.000000"
      ]
     },
     "execution_count": 50,
     "metadata": {},
     "output_type": "execute_result"
    }
   ],
   "source": [
    "total.describe()"
   ]
  },
  {
   "cell_type": "code",
   "execution_count": 51,
   "metadata": {},
   "outputs": [
    {
     "data": {
      "text/html": [
       "<div>\n",
       "<style scoped>\n",
       "    .dataframe tbody tr th:only-of-type {\n",
       "        vertical-align: middle;\n",
       "    }\n",
       "\n",
       "    .dataframe tbody tr th {\n",
       "        vertical-align: top;\n",
       "    }\n",
       "\n",
       "    .dataframe thead th {\n",
       "        text-align: right;\n",
       "    }\n",
       "</style>\n",
       "<table border=\"1\" class=\"dataframe\">\n",
       "  <thead>\n",
       "    <tr style=\"text-align: right;\">\n",
       "      <th></th>\n",
       "      <th>count</th>\n",
       "    </tr>\n",
       "  </thead>\n",
       "  <tbody>\n",
       "    <tr>\n",
       "      <td>XmentionX</td>\n",
       "      <td>8517</td>\n",
       "    </tr>\n",
       "    <tr>\n",
       "      <td>a</td>\n",
       "      <td>5868</td>\n",
       "    </tr>\n",
       "    <tr>\n",
       "      <td>the</td>\n",
       "      <td>5048</td>\n",
       "    </tr>\n",
       "    <tr>\n",
       "      <td>you</td>\n",
       "      <td>4761</td>\n",
       "    </tr>\n",
       "    <tr>\n",
       "      <td>i</td>\n",
       "      <td>4376</td>\n",
       "    </tr>\n",
       "    <tr>\n",
       "      <td>to</td>\n",
       "      <td>4231</td>\n",
       "    </tr>\n",
       "    <tr>\n",
       "      <td>XlinkX</td>\n",
       "      <td>3892</td>\n",
       "    </tr>\n",
       "    <tr>\n",
       "      <td>and</td>\n",
       "      <td>3355</td>\n",
       "    </tr>\n",
       "    <tr>\n",
       "      <td>is</td>\n",
       "      <td>2527</td>\n",
       "    </tr>\n",
       "    <tr>\n",
       "      <td>of</td>\n",
       "      <td>2440</td>\n",
       "    </tr>\n",
       "  </tbody>\n",
       "</table>\n",
       "</div>"
      ],
      "text/plain": [
       "           count\n",
       "XmentionX   8517\n",
       "a           5868\n",
       "the         5048\n",
       "you         4761\n",
       "i           4376\n",
       "to          4231\n",
       "XlinkX      3892\n",
       "and         3355\n",
       "is          2527\n",
       "of          2440"
      ]
     },
     "execution_count": 51,
     "metadata": {},
     "output_type": "execute_result"
    }
   ],
   "source": [
    "total.sort_values(by=\"count\", ascending=False).head(10)"
   ]
  },
  {
   "cell_type": "markdown",
   "metadata": {},
   "source": [
    "## 3 - Stemming"
   ]
  },
  {
   "cell_type": "markdown",
   "metadata": {},
   "source": [
    "Porter Stemmer. (Geralmente mais rápido)"
   ]
  },
  {
   "cell_type": "code",
   "execution_count": 52,
   "metadata": {},
   "outputs": [],
   "source": [
    "from nltk.stem import PorterStemmer\n",
    "stemmer = PorterStemmer()"
   ]
  },
  {
   "cell_type": "code",
   "execution_count": 53,
   "metadata": {},
   "outputs": [],
   "source": [
    "porter_stem = [stemmer.stem(w) for w in words]"
   ]
  },
  {
   "cell_type": "code",
   "execution_count": 54,
   "metadata": {},
   "outputs": [
    {
     "name": "stdout",
     "output_type": "stream",
     "text": [
      "['warn', 'penni', 'board', 'will', 'make', 'you', 'faggot', 'fuck', 'dyke', 'xmentionx', 'xmentionx', 'xmentionx', 'xmentionx', 'xmentionx', 'least', 'dont', 'look', 'like', 'jefre', 'starr', 'faggot', 'xmentionx', 'xmentionx', 'xmentionx', 'fag']\n"
     ]
    }
   ],
   "source": [
    "print(list(filter(lambda x : len(x) > 2, porter_stem))[:25])"
   ]
  },
  {
   "cell_type": "markdown",
   "metadata": {},
   "source": [
    "Snowball Stemmer. (Geralmente mais adequado para o inglês)"
   ]
  },
  {
   "cell_type": "code",
   "execution_count": 55,
   "metadata": {},
   "outputs": [],
   "source": [
    "from nltk.stem import SnowballStemmer, WordNetLemmatizer\n",
    "stemmer = SnowballStemmer(\"english\", ignore_stopwords=True)"
   ]
  },
  {
   "cell_type": "code",
   "execution_count": 58,
   "metadata": {},
   "outputs": [],
   "source": [
    "snowball_stem = [stemmer.stem(word) for word in words] "
   ]
  },
  {
   "cell_type": "code",
   "execution_count": 59,
   "metadata": {},
   "outputs": [
    {
     "name": "stdout",
     "output_type": "stream",
     "text": [
      "['warn', 'penni', 'board', 'will', 'make', 'you', 'faggot', 'fuck', 'dyke', 'xmentionx', 'xmentionx', 'xmentionx', 'xmentionx', 'xmentionx', 'least', 'dont', 'look', 'like', 'jefre', 'starr', 'faggot', 'xmentionx', 'xmentionx', 'xmentionx', 'fag']\n"
     ]
    }
   ],
   "source": [
    "print(list(filter(lambda x : len(x) > 2, snowball_stem))[:25])"
   ]
  },
  {
   "cell_type": "markdown",
   "metadata": {},
   "source": [
    "## 4 - Lemmatization"
   ]
  },
  {
   "cell_type": "code",
   "execution_count": 60,
   "metadata": {},
   "outputs": [],
   "source": [
    "from nltk.stem import WordNetLemmatizer\n",
    "\n",
    "def lemmatize_tokenize(text):\n",
    "    lemmatizer = WordNetLemmatizer()\n",
    "    return [lemmatizer.lemmatize(token) for token in nltk.word_tokenize(text)]"
   ]
  },
  {
   "cell_type": "code",
   "execution_count": 61,
   "metadata": {},
   "outputs": [],
   "source": [
    "word_lemm = lemmatize_tokenize(corpus)"
   ]
  },
  {
   "cell_type": "code",
   "execution_count": 62,
   "metadata": {},
   "outputs": [
    {
     "name": "stdout",
     "output_type": "stream",
     "text": [
      "['warning', 'penny', 'board', 'will', 'make', 'you', 'faggot', 'fuck', 'dyke', 'XmentionX', 'XmentionX', 'XmentionX', 'XmentionX', 'XmentionX', 'least', 'dont', 'look', 'like', 'jefree', 'starr', 'faggot', 'XmentionX', 'XmentionX', 'XmentionX', 'fag']\n"
     ]
    }
   ],
   "source": [
    "print(list(filter(lambda x : len(x) > 2, word_lemm))[:25])"
   ]
  },
  {
   "cell_type": "markdown",
   "metadata": {},
   "source": [
    "# 5 - Remover StopWords"
   ]
  },
  {
   "cell_type": "code",
   "execution_count": 63,
   "metadata": {},
   "outputs": [],
   "source": [
    "from nltk.corpus import stopwords\n",
    "stop_words = set(stopwords.words('english'))\n",
    "words_final = [word for word in word_lemm if word not in stop_words]"
   ]
  },
  {
   "cell_type": "code",
   "execution_count": 64,
   "metadata": {},
   "outputs": [
    {
     "name": "stdout",
     "output_type": "stream",
     "text": [
      "['warning', 'penny', 'board', 'make', 'faggot', 'fuck', 'dyke', 'XmentionX', 'XmentionX', 'XmentionX', 'XmentionX', 'XmentionX', 'least', 'dont', 'look', 'like', 'jefree', 'starr', 'faggot', 'XmentionX', 'XmentionX', 'XmentionX', 'fag', 'jackie', 'jealous']\n"
     ]
    }
   ],
   "source": [
    "print(list(filter(lambda x : len(x) > 2, words_final))[:25])"
   ]
  },
  {
   "cell_type": "code",
   "execution_count": 65,
   "metadata": {},
   "outputs": [
    {
     "data": {
      "text/plain": [
       "15437"
      ]
     },
     "execution_count": 65,
     "metadata": {},
     "output_type": "execute_result"
    }
   ],
   "source": [
    "len(set(words_final))"
   ]
  },
  {
   "cell_type": "code",
   "execution_count": 66,
   "metadata": {},
   "outputs": [],
   "source": [
    "words_final = nltk.FreqDist(words_final)"
   ]
  },
  {
   "cell_type": "markdown",
   "metadata": {},
   "source": [
    "## 6 - Bag of Words"
   ]
  },
  {
   "cell_type": "code",
   "execution_count": 67,
   "metadata": {},
   "outputs": [],
   "source": [
    "from sklearn.feature_extraction.text import CountVectorizer\n",
    "\n",
    "count_vectorizer = CountVectorizer()"
   ]
  },
  {
   "cell_type": "code",
   "execution_count": 68,
   "metadata": {},
   "outputs": [],
   "source": [
    "bag_of_words = count_vectorizer.fit_transform(data.tweet_text)"
   ]
  },
  {
   "cell_type": "code",
   "execution_count": 69,
   "metadata": {},
   "outputs": [],
   "source": [
    "feature_names = count_vectorizer.get_feature_names()\n",
    "bow = pd.DataFrame(bag_of_words.toarray(), columns = feature_names)"
   ]
  },
  {
   "cell_type": "code",
   "execution_count": 70,
   "metadata": {},
   "outputs": [
    {
     "data": {
      "text/html": [
       "<div>\n",
       "<style scoped>\n",
       "    .dataframe tbody tr th:only-of-type {\n",
       "        vertical-align: middle;\n",
       "    }\n",
       "\n",
       "    .dataframe tbody tr th {\n",
       "        vertical-align: top;\n",
       "    }\n",
       "\n",
       "    .dataframe thead th {\n",
       "        text-align: right;\n",
       "    }\n",
       "</style>\n",
       "<table border=\"1\" class=\"dataframe\">\n",
       "  <thead>\n",
       "    <tr style=\"text-align: right;\">\n",
       "      <th></th>\n",
       "      <th>00</th>\n",
       "      <th>000</th>\n",
       "      <th>0092</th>\n",
       "      <th>00mm</th>\n",
       "      <th>01622</th>\n",
       "      <th>023</th>\n",
       "      <th>03</th>\n",
       "      <th>04</th>\n",
       "      <th>041</th>\n",
       "      <th>042</th>\n",
       "      <th>...</th>\n",
       "      <th>zombies</th>\n",
       "      <th>zombified</th>\n",
       "      <th>zone</th>\n",
       "      <th>zoning</th>\n",
       "      <th>zoo</th>\n",
       "      <th>zuckerbergs</th>\n",
       "      <th>zuckerburg</th>\n",
       "      <th>zulfiqar</th>\n",
       "      <th>zuma</th>\n",
       "      <th>zuni</th>\n",
       "    </tr>\n",
       "  </thead>\n",
       "  <tbody>\n",
       "    <tr>\n",
       "      <td>0</td>\n",
       "      <td>0</td>\n",
       "      <td>0</td>\n",
       "      <td>0</td>\n",
       "      <td>0</td>\n",
       "      <td>0</td>\n",
       "      <td>0</td>\n",
       "      <td>0</td>\n",
       "      <td>0</td>\n",
       "      <td>0</td>\n",
       "      <td>0</td>\n",
       "      <td>...</td>\n",
       "      <td>0</td>\n",
       "      <td>0</td>\n",
       "      <td>0</td>\n",
       "      <td>0</td>\n",
       "      <td>0</td>\n",
       "      <td>0</td>\n",
       "      <td>0</td>\n",
       "      <td>0</td>\n",
       "      <td>0</td>\n",
       "      <td>0</td>\n",
       "    </tr>\n",
       "    <tr>\n",
       "      <td>1</td>\n",
       "      <td>0</td>\n",
       "      <td>0</td>\n",
       "      <td>0</td>\n",
       "      <td>0</td>\n",
       "      <td>0</td>\n",
       "      <td>0</td>\n",
       "      <td>0</td>\n",
       "      <td>0</td>\n",
       "      <td>0</td>\n",
       "      <td>0</td>\n",
       "      <td>...</td>\n",
       "      <td>0</td>\n",
       "      <td>0</td>\n",
       "      <td>0</td>\n",
       "      <td>0</td>\n",
       "      <td>0</td>\n",
       "      <td>0</td>\n",
       "      <td>0</td>\n",
       "      <td>0</td>\n",
       "      <td>0</td>\n",
       "      <td>0</td>\n",
       "    </tr>\n",
       "    <tr>\n",
       "      <td>2</td>\n",
       "      <td>0</td>\n",
       "      <td>0</td>\n",
       "      <td>0</td>\n",
       "      <td>0</td>\n",
       "      <td>0</td>\n",
       "      <td>0</td>\n",
       "      <td>0</td>\n",
       "      <td>0</td>\n",
       "      <td>0</td>\n",
       "      <td>0</td>\n",
       "      <td>...</td>\n",
       "      <td>0</td>\n",
       "      <td>0</td>\n",
       "      <td>0</td>\n",
       "      <td>0</td>\n",
       "      <td>0</td>\n",
       "      <td>0</td>\n",
       "      <td>0</td>\n",
       "      <td>0</td>\n",
       "      <td>0</td>\n",
       "      <td>0</td>\n",
       "    </tr>\n",
       "    <tr>\n",
       "      <td>3</td>\n",
       "      <td>0</td>\n",
       "      <td>0</td>\n",
       "      <td>0</td>\n",
       "      <td>0</td>\n",
       "      <td>0</td>\n",
       "      <td>0</td>\n",
       "      <td>0</td>\n",
       "      <td>0</td>\n",
       "      <td>0</td>\n",
       "      <td>0</td>\n",
       "      <td>...</td>\n",
       "      <td>0</td>\n",
       "      <td>0</td>\n",
       "      <td>0</td>\n",
       "      <td>0</td>\n",
       "      <td>0</td>\n",
       "      <td>0</td>\n",
       "      <td>0</td>\n",
       "      <td>0</td>\n",
       "      <td>0</td>\n",
       "      <td>0</td>\n",
       "    </tr>\n",
       "    <tr>\n",
       "      <td>4</td>\n",
       "      <td>0</td>\n",
       "      <td>0</td>\n",
       "      <td>0</td>\n",
       "      <td>0</td>\n",
       "      <td>0</td>\n",
       "      <td>0</td>\n",
       "      <td>0</td>\n",
       "      <td>0</td>\n",
       "      <td>0</td>\n",
       "      <td>0</td>\n",
       "      <td>...</td>\n",
       "      <td>0</td>\n",
       "      <td>0</td>\n",
       "      <td>0</td>\n",
       "      <td>0</td>\n",
       "      <td>0</td>\n",
       "      <td>0</td>\n",
       "      <td>0</td>\n",
       "      <td>0</td>\n",
       "      <td>0</td>\n",
       "      <td>0</td>\n",
       "    </tr>\n",
       "    <tr>\n",
       "      <td>...</td>\n",
       "      <td>...</td>\n",
       "      <td>...</td>\n",
       "      <td>...</td>\n",
       "      <td>...</td>\n",
       "      <td>...</td>\n",
       "      <td>...</td>\n",
       "      <td>...</td>\n",
       "      <td>...</td>\n",
       "      <td>...</td>\n",
       "      <td>...</td>\n",
       "      <td>...</td>\n",
       "      <td>...</td>\n",
       "      <td>...</td>\n",
       "      <td>...</td>\n",
       "      <td>...</td>\n",
       "      <td>...</td>\n",
       "      <td>...</td>\n",
       "      <td>...</td>\n",
       "      <td>...</td>\n",
       "      <td>...</td>\n",
       "      <td>...</td>\n",
       "    </tr>\n",
       "    <tr>\n",
       "      <td>14504</td>\n",
       "      <td>0</td>\n",
       "      <td>0</td>\n",
       "      <td>0</td>\n",
       "      <td>0</td>\n",
       "      <td>0</td>\n",
       "      <td>0</td>\n",
       "      <td>0</td>\n",
       "      <td>0</td>\n",
       "      <td>0</td>\n",
       "      <td>0</td>\n",
       "      <td>...</td>\n",
       "      <td>0</td>\n",
       "      <td>0</td>\n",
       "      <td>0</td>\n",
       "      <td>0</td>\n",
       "      <td>0</td>\n",
       "      <td>0</td>\n",
       "      <td>0</td>\n",
       "      <td>0</td>\n",
       "      <td>0</td>\n",
       "      <td>0</td>\n",
       "    </tr>\n",
       "    <tr>\n",
       "      <td>14505</td>\n",
       "      <td>0</td>\n",
       "      <td>0</td>\n",
       "      <td>0</td>\n",
       "      <td>0</td>\n",
       "      <td>0</td>\n",
       "      <td>0</td>\n",
       "      <td>0</td>\n",
       "      <td>0</td>\n",
       "      <td>0</td>\n",
       "      <td>0</td>\n",
       "      <td>...</td>\n",
       "      <td>0</td>\n",
       "      <td>0</td>\n",
       "      <td>0</td>\n",
       "      <td>0</td>\n",
       "      <td>0</td>\n",
       "      <td>0</td>\n",
       "      <td>0</td>\n",
       "      <td>0</td>\n",
       "      <td>0</td>\n",
       "      <td>0</td>\n",
       "    </tr>\n",
       "    <tr>\n",
       "      <td>14506</td>\n",
       "      <td>0</td>\n",
       "      <td>0</td>\n",
       "      <td>0</td>\n",
       "      <td>0</td>\n",
       "      <td>0</td>\n",
       "      <td>0</td>\n",
       "      <td>0</td>\n",
       "      <td>0</td>\n",
       "      <td>0</td>\n",
       "      <td>0</td>\n",
       "      <td>...</td>\n",
       "      <td>0</td>\n",
       "      <td>0</td>\n",
       "      <td>0</td>\n",
       "      <td>0</td>\n",
       "      <td>0</td>\n",
       "      <td>0</td>\n",
       "      <td>0</td>\n",
       "      <td>0</td>\n",
       "      <td>0</td>\n",
       "      <td>0</td>\n",
       "    </tr>\n",
       "    <tr>\n",
       "      <td>14507</td>\n",
       "      <td>0</td>\n",
       "      <td>0</td>\n",
       "      <td>0</td>\n",
       "      <td>0</td>\n",
       "      <td>0</td>\n",
       "      <td>0</td>\n",
       "      <td>0</td>\n",
       "      <td>0</td>\n",
       "      <td>0</td>\n",
       "      <td>0</td>\n",
       "      <td>...</td>\n",
       "      <td>0</td>\n",
       "      <td>0</td>\n",
       "      <td>0</td>\n",
       "      <td>0</td>\n",
       "      <td>0</td>\n",
       "      <td>0</td>\n",
       "      <td>0</td>\n",
       "      <td>0</td>\n",
       "      <td>0</td>\n",
       "      <td>0</td>\n",
       "    </tr>\n",
       "    <tr>\n",
       "      <td>14508</td>\n",
       "      <td>0</td>\n",
       "      <td>0</td>\n",
       "      <td>0</td>\n",
       "      <td>0</td>\n",
       "      <td>0</td>\n",
       "      <td>0</td>\n",
       "      <td>0</td>\n",
       "      <td>0</td>\n",
       "      <td>0</td>\n",
       "      <td>0</td>\n",
       "      <td>...</td>\n",
       "      <td>0</td>\n",
       "      <td>0</td>\n",
       "      <td>0</td>\n",
       "      <td>0</td>\n",
       "      <td>0</td>\n",
       "      <td>0</td>\n",
       "      <td>0</td>\n",
       "      <td>0</td>\n",
       "      <td>0</td>\n",
       "      <td>0</td>\n",
       "    </tr>\n",
       "  </tbody>\n",
       "</table>\n",
       "<p>14509 rows × 17141 columns</p>\n",
       "</div>"
      ],
      "text/plain": [
       "       00  000  0092  00mm  01622  023  03  04  041  042  ...  zombies  \\\n",
       "0       0    0     0     0      0    0   0   0    0    0  ...        0   \n",
       "1       0    0     0     0      0    0   0   0    0    0  ...        0   \n",
       "2       0    0     0     0      0    0   0   0    0    0  ...        0   \n",
       "3       0    0     0     0      0    0   0   0    0    0  ...        0   \n",
       "4       0    0     0     0      0    0   0   0    0    0  ...        0   \n",
       "...    ..  ...   ...   ...    ...  ...  ..  ..  ...  ...  ...      ...   \n",
       "14504   0    0     0     0      0    0   0   0    0    0  ...        0   \n",
       "14505   0    0     0     0      0    0   0   0    0    0  ...        0   \n",
       "14506   0    0     0     0      0    0   0   0    0    0  ...        0   \n",
       "14507   0    0     0     0      0    0   0   0    0    0  ...        0   \n",
       "14508   0    0     0     0      0    0   0   0    0    0  ...        0   \n",
       "\n",
       "       zombified  zone  zoning  zoo  zuckerbergs  zuckerburg  zulfiqar  zuma  \\\n",
       "0              0     0       0    0            0           0         0     0   \n",
       "1              0     0       0    0            0           0         0     0   \n",
       "2              0     0       0    0            0           0         0     0   \n",
       "3              0     0       0    0            0           0         0     0   \n",
       "4              0     0       0    0            0           0         0     0   \n",
       "...          ...   ...     ...  ...          ...         ...       ...   ...   \n",
       "14504          0     0       0    0            0           0         0     0   \n",
       "14505          0     0       0    0            0           0         0     0   \n",
       "14506          0     0       0    0            0           0         0     0   \n",
       "14507          0     0       0    0            0           0         0     0   \n",
       "14508          0     0       0    0            0           0         0     0   \n",
       "\n",
       "       zuni  \n",
       "0         0  \n",
       "1         0  \n",
       "2         0  \n",
       "3         0  \n",
       "4         0  \n",
       "...     ...  \n",
       "14504     0  \n",
       "14505     0  \n",
       "14506     0  \n",
       "14507     0  \n",
       "14508     0  \n",
       "\n",
       "[14509 rows x 17141 columns]"
      ]
     },
     "execution_count": 70,
     "metadata": {},
     "output_type": "execute_result"
    }
   ],
   "source": [
    "bow"
   ]
  },
  {
   "cell_type": "code",
   "execution_count": null,
   "metadata": {},
   "outputs": [],
   "source": []
  },
  {
   "cell_type": "code",
   "execution_count": 71,
   "metadata": {},
   "outputs": [
    {
     "data": {
      "text/html": [
       "<div>\n",
       "<style scoped>\n",
       "    .dataframe tbody tr th:only-of-type {\n",
       "        vertical-align: middle;\n",
       "    }\n",
       "\n",
       "    .dataframe tbody tr th {\n",
       "        vertical-align: top;\n",
       "    }\n",
       "\n",
       "    .dataframe thead th {\n",
       "        text-align: right;\n",
       "    }\n",
       "</style>\n",
       "<table border=\"1\" class=\"dataframe\">\n",
       "  <thead>\n",
       "    <tr style=\"text-align: right;\">\n",
       "      <th></th>\n",
       "      <th>confidence</th>\n",
       "      <th>labels</th>\n",
       "      <th>length</th>\n",
       "      <th>tweet_text</th>\n",
       "    </tr>\n",
       "  </thead>\n",
       "  <tbody>\n",
       "    <tr>\n",
       "      <td>3</td>\n",
       "      <td>0.5184</td>\n",
       "      <td>H</td>\n",
       "      <td>58</td>\n",
       "      <td>XmentionX XmentionX XmentionX is a fag jackie jealous nee</td>\n",
       "    </tr>\n",
       "    <tr>\n",
       "      <td>9</td>\n",
       "      <td>0.6407</td>\n",
       "      <td>O</td>\n",
       "      <td>102</td>\n",
       "      <td>im tired of people saying i look like my brother calling me deondre like serious succ my ass fag asses</td>\n",
       "    </tr>\n",
       "    <tr>\n",
       "      <td>16</td>\n",
       "      <td>0.6833</td>\n",
       "      <td>H</td>\n",
       "      <td>110</td>\n",
       "      <td>good night fags and fagettes thats the female version of fags like fag ettes to make it female i hate you all</td>\n",
       "    </tr>\n",
       "    <tr>\n",
       "      <td>947</td>\n",
       "      <td>1.0000</td>\n",
       "      <td>H</td>\n",
       "      <td>109</td>\n",
       "      <td>XmentionX you piece of shit i stepped on dog puke last night cause your faggot ass was feeding that fag fries</td>\n",
       "    </tr>\n",
       "    <tr>\n",
       "      <td>4145</td>\n",
       "      <td>1.0000</td>\n",
       "      <td>O</td>\n",
       "      <td>92</td>\n",
       "      <td>XmentionX XmentionX XmentionX XmentionX going for a fag and ignoring her isnt the same thing</td>\n",
       "    </tr>\n",
       "    <tr>\n",
       "      <td>...</td>\n",
       "      <td>...</td>\n",
       "      <td>...</td>\n",
       "      <td>...</td>\n",
       "      <td>...</td>\n",
       "    </tr>\n",
       "    <tr>\n",
       "      <td>14438</td>\n",
       "      <td>1.0000</td>\n",
       "      <td>O</td>\n",
       "      <td>46</td>\n",
       "      <td>i wanna go on a walk with a fag and get lost p</td>\n",
       "    </tr>\n",
       "    <tr>\n",
       "      <td>14439</td>\n",
       "      <td>0.6821</td>\n",
       "      <td>O</td>\n",
       "      <td>85</td>\n",
       "      <td>XmentionX XmentionX i still owe you a drink for you birthday fag lets go grab a drink</td>\n",
       "    </tr>\n",
       "    <tr>\n",
       "      <td>14440</td>\n",
       "      <td>0.6599</td>\n",
       "      <td>O</td>\n",
       "      <td>24</td>\n",
       "      <td>XmentionX good video fag</td>\n",
       "    </tr>\n",
       "    <tr>\n",
       "      <td>14441</td>\n",
       "      <td>0.6718</td>\n",
       "      <td>N</td>\n",
       "      <td>56</td>\n",
       "      <td>just gave my mum a menthol fag and she cant hack it lool</td>\n",
       "    </tr>\n",
       "    <tr>\n",
       "      <td>14442</td>\n",
       "      <td>0.6700</td>\n",
       "      <td>O</td>\n",
       "      <td>17</td>\n",
       "      <td>XmentionX you fag</td>\n",
       "    </tr>\n",
       "  </tbody>\n",
       "</table>\n",
       "<p>491 rows × 4 columns</p>\n",
       "</div>"
      ],
      "text/plain": [
       "       confidence labels  length  \\\n",
       "3          0.5184      H      58   \n",
       "9          0.6407      O     102   \n",
       "16         0.6833      H     110   \n",
       "947        1.0000      H     109   \n",
       "4145       1.0000      O      92   \n",
       "...           ...    ...     ...   \n",
       "14438      1.0000      O      46   \n",
       "14439      0.6821      O      85   \n",
       "14440      0.6599      O      24   \n",
       "14441      0.6718      N      56   \n",
       "14442      0.6700      O      17   \n",
       "\n",
       "                                                                                                           tweet_text  \n",
       "3                                                           XmentionX XmentionX XmentionX is a fag jackie jealous nee  \n",
       "9              im tired of people saying i look like my brother calling me deondre like serious succ my ass fag asses  \n",
       "16     good night fags and fagettes thats the female version of fags like fag ettes to make it female i hate you all   \n",
       "947     XmentionX you piece of shit i stepped on dog puke last night cause your faggot ass was feeding that fag fries  \n",
       "4145                     XmentionX XmentionX XmentionX XmentionX going for a fag and ignoring her isnt the same thing  \n",
       "...                                                                                                               ...  \n",
       "14438                                                                  i wanna go on a walk with a fag and get lost p  \n",
       "14439                           XmentionX XmentionX i still owe you a drink for you birthday fag lets go grab a drink  \n",
       "14440                                                                                        XmentionX good video fag  \n",
       "14441                                                        just gave my mum a menthol fag and she cant hack it lool  \n",
       "14442                                                                                               XmentionX you fag  \n",
       "\n",
       "[491 rows x 4 columns]"
      ]
     },
     "execution_count": 71,
     "metadata": {},
     "output_type": "execute_result"
    }
   ],
   "source": [
    "data.loc[bow.fag >= 1] #Localizar tweets com a palavra fag"
   ]
  },
  {
   "cell_type": "markdown",
   "metadata": {},
   "source": [
    "## 7 - TF-IDF: Term frequency-inverse document frequency"
   ]
  },
  {
   "cell_type": "code",
   "execution_count": 72,
   "metadata": {},
   "outputs": [],
   "source": [
    "from sklearn.feature_extraction.text import TfidfVectorizer\n",
    "\n",
    "tfidf_vectorizer = TfidfVectorizer(tokenizer=lemmatize_tokenize)"
   ]
  },
  {
   "cell_type": "code",
   "execution_count": 73,
   "metadata": {},
   "outputs": [],
   "source": [
    "values = tfidf_vectorizer.fit_transform(data.tweet_text)"
   ]
  },
  {
   "cell_type": "code",
   "execution_count": 74,
   "metadata": {},
   "outputs": [],
   "source": [
    "feature_names = tfidf_vectorizer.get_feature_names()\n",
    "tfidf = pd.DataFrame(values.toarray(), columns = feature_names)"
   ]
  },
  {
   "cell_type": "code",
   "execution_count": 75,
   "metadata": {},
   "outputs": [],
   "source": [
    "#tfidf.loc[tfidf.fag >= 0.7]\n",
    "#bow.fag.loc[bow.fag >= 0.7]"
   ]
  },
  {
   "cell_type": "code",
   "execution_count": 76,
   "metadata": {},
   "outputs": [],
   "source": [
    "test = pd.DataFrame.from_dict(\n",
    "    list(zip(data.labels,data.tweet_text, tfidf.fag)))"
   ]
  },
  {
   "cell_type": "code",
   "execution_count": 77,
   "metadata": {},
   "outputs": [],
   "source": [
    "test.columns = ['label', 'tweet', 'fag']"
   ]
  },
  {
   "cell_type": "code",
   "execution_count": null,
   "metadata": {},
   "outputs": [],
   "source": []
  },
  {
   "cell_type": "code",
   "execution_count": 78,
   "metadata": {},
   "outputs": [
    {
     "data": {
      "text/html": [
       "<div>\n",
       "<style scoped>\n",
       "    .dataframe tbody tr th:only-of-type {\n",
       "        vertical-align: middle;\n",
       "    }\n",
       "\n",
       "    .dataframe tbody tr th {\n",
       "        vertical-align: top;\n",
       "    }\n",
       "\n",
       "    .dataframe thead th {\n",
       "        text-align: right;\n",
       "    }\n",
       "</style>\n",
       "<table border=\"1\" class=\"dataframe\">\n",
       "  <thead>\n",
       "    <tr style=\"text-align: right;\">\n",
       "      <th></th>\n",
       "      <th>label</th>\n",
       "      <th>tweet</th>\n",
       "      <th>fag</th>\n",
       "    </tr>\n",
       "  </thead>\n",
       "  <tbody>\n",
       "    <tr>\n",
       "      <td>1004</td>\n",
       "      <td>H</td>\n",
       "      <td>fags XlinkX</td>\n",
       "      <td>0.861658</td>\n",
       "    </tr>\n",
       "    <tr>\n",
       "      <td>1019</td>\n",
       "      <td>N</td>\n",
       "      <td>fags XlinkX</td>\n",
       "      <td>0.861658</td>\n",
       "    </tr>\n",
       "    <tr>\n",
       "      <td>1027</td>\n",
       "      <td>O</td>\n",
       "      <td>XmentionX XmentionX fags</td>\n",
       "      <td>0.731454</td>\n",
       "    </tr>\n",
       "    <tr>\n",
       "      <td>4703</td>\n",
       "      <td>H</td>\n",
       "      <td>XmentionX fags are fags</td>\n",
       "      <td>0.902646</td>\n",
       "    </tr>\n",
       "    <tr>\n",
       "      <td>4719</td>\n",
       "      <td>O</td>\n",
       "      <td>XmentionX fags are fags not faggots</td>\n",
       "      <td>0.787535</td>\n",
       "    </tr>\n",
       "    <tr>\n",
       "      <td>9441</td>\n",
       "      <td>O</td>\n",
       "      <td>XmentionX you fag</td>\n",
       "      <td>0.800366</td>\n",
       "    </tr>\n",
       "    <tr>\n",
       "      <td>9453</td>\n",
       "      <td>O</td>\n",
       "      <td>XmentionX you fag</td>\n",
       "      <td>0.800366</td>\n",
       "    </tr>\n",
       "    <tr>\n",
       "      <td>9460</td>\n",
       "      <td>O</td>\n",
       "      <td>XmentionX you fag</td>\n",
       "      <td>0.800366</td>\n",
       "    </tr>\n",
       "    <tr>\n",
       "      <td>9472</td>\n",
       "      <td>H</td>\n",
       "      <td>XmentionX you fag</td>\n",
       "      <td>0.800366</td>\n",
       "    </tr>\n",
       "    <tr>\n",
       "      <td>11349</td>\n",
       "      <td>O</td>\n",
       "      <td>XmentionX is a fag</td>\n",
       "      <td>0.716845</td>\n",
       "    </tr>\n",
       "    <tr>\n",
       "      <td>11350</td>\n",
       "      <td>O</td>\n",
       "      <td>XmentionX is a fag</td>\n",
       "      <td>0.716845</td>\n",
       "    </tr>\n",
       "    <tr>\n",
       "      <td>13111</td>\n",
       "      <td>O</td>\n",
       "      <td>XmentionX you a fag</td>\n",
       "      <td>0.742823</td>\n",
       "    </tr>\n",
       "    <tr>\n",
       "      <td>13112</td>\n",
       "      <td>O</td>\n",
       "      <td>you a fag XlinkX</td>\n",
       "      <td>0.717604</td>\n",
       "    </tr>\n",
       "    <tr>\n",
       "      <td>13114</td>\n",
       "      <td>H</td>\n",
       "      <td>XmentionX you a fag</td>\n",
       "      <td>0.742823</td>\n",
       "    </tr>\n",
       "    <tr>\n",
       "      <td>13126</td>\n",
       "      <td>O</td>\n",
       "      <td>you a fag</td>\n",
       "      <td>0.791800</td>\n",
       "    </tr>\n",
       "    <tr>\n",
       "      <td>13127</td>\n",
       "      <td>O</td>\n",
       "      <td>XmentionX you a fag</td>\n",
       "      <td>0.742823</td>\n",
       "    </tr>\n",
       "    <tr>\n",
       "      <td>14442</td>\n",
       "      <td>O</td>\n",
       "      <td>XmentionX you fag</td>\n",
       "      <td>0.800366</td>\n",
       "    </tr>\n",
       "  </tbody>\n",
       "</table>\n",
       "</div>"
      ],
      "text/plain": [
       "      label                                 tweet       fag\n",
       "1004      H                          fags XlinkX   0.861658\n",
       "1019      N                          fags XlinkX   0.861658\n",
       "1027      O              XmentionX XmentionX fags  0.731454\n",
       "4703      H               XmentionX fags are fags  0.902646\n",
       "4719      O  XmentionX fags are fags not faggots   0.787535\n",
       "9441      O                     XmentionX you fag  0.800366\n",
       "9453      O                     XmentionX you fag  0.800366\n",
       "9460      O                     XmentionX you fag  0.800366\n",
       "9472      H                    XmentionX you fag   0.800366\n",
       "11349     O                    XmentionX is a fag  0.716845\n",
       "11350     O                   XmentionX is a fag   0.716845\n",
       "13111     O                   XmentionX you a fag  0.742823\n",
       "13112     O                     you a fag XlinkX   0.717604\n",
       "13114     H                  XmentionX you a fag   0.742823\n",
       "13126     O                             you a fag  0.791800\n",
       "13127     O                  XmentionX you a fag   0.742823\n",
       "14442     O                     XmentionX you fag  0.800366"
      ]
     },
     "execution_count": 78,
     "metadata": {},
     "output_type": "execute_result"
    }
   ],
   "source": [
    "test.loc[test.fag >= 0.7]"
   ]
  },
  {
   "cell_type": "code",
   "execution_count": null,
   "metadata": {},
   "outputs": [],
   "source": [
    "data.loc[tfidf.lame >= 0.5].head(10)"
   ]
  },
  {
   "cell_type": "code",
   "execution_count": null,
   "metadata": {},
   "outputs": [],
   "source": [
    "#Usar lemmatizer tokenize como parametro da TfidfVectorizer()"
   ]
  }
 ],
 "metadata": {
  "kernelspec": {
   "display_name": "Python 3",
   "language": "python",
   "name": "python3"
  },
  "language_info": {
   "codemirror_mode": {
    "name": "ipython",
    "version": 3
   },
   "file_extension": ".py",
   "mimetype": "text/x-python",
   "name": "python",
   "nbconvert_exporter": "python",
   "pygments_lexer": "ipython3",
   "version": "3.7.4"
  }
 },
 "nbformat": 4,
 "nbformat_minor": 4
}
