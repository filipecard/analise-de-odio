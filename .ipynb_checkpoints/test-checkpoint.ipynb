{
 "cells": [
  {
   "cell_type": "code",
   "execution_count": 1,
   "metadata": {},
   "outputs": [],
   "source": [
    "import io\n",
    "\n",
    "with io.open(\"train.csv\", 'r', encoding='latin-1') as train:\n",
    "    fout = []\n",
    "    loop = 0\n",
    "    train.readline()\n",
    "    while True:\n",
    "        try:\n",
    "            fout.append(train.readline().split(',')[-1].strip())\n",
    "            if train.readline() == '':\n",
    "                break         \n",
    "            \n",
    "        except UnicodeDecodeError:\n",
    "            pass\n",
    "        loop += 1\n",
    "        \n",
    "    "
   ]
  },
  {
   "cell_type": "code",
   "execution_count": 2,
   "metadata": {},
   "outputs": [],
   "source": [
    "with io.open(\"my_file.csv\", 'w', encoding='utf-8') as file:\n",
    "    file.write(\"tweets\\n\")\n",
    "    for line in fout:\n",
    "        file.write(line+\"\\n\")"
   ]
  },
  {
   "cell_type": "code",
   "execution_count": 3,
   "metadata": {},
   "outputs": [
    {
     "data": {
      "text/plain": [
       "'is so sad for my APL friend.............'"
      ]
     },
     "execution_count": 3,
     "metadata": {},
     "output_type": "execute_result"
    }
   ],
   "source": [
    "fout[0]"
   ]
  },
  {
   "cell_type": "code",
   "execution_count": null,
   "metadata": {},
   "outputs": [],
   "source": []
  }
 ],
 "metadata": {
  "kernelspec": {
   "display_name": "Python 3",
   "language": "python",
   "name": "python3"
  },
  "language_info": {
   "codemirror_mode": {
    "name": "ipython",
    "version": 3
   },
   "file_extension": ".py",
   "mimetype": "text/x-python",
   "name": "python",
   "nbconvert_exporter": "python",
   "pygments_lexer": "ipython3",
   "version": "3.7.1"
  }
 },
 "nbformat": 4,
 "nbformat_minor": 2
}
