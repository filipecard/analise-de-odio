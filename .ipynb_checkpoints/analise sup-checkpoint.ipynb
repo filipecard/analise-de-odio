{
 "cells": [
  {
   "cell_type": "code",
   "execution_count": 38,
   "metadata": {},
   "outputs": [],
   "source": [
    "import pandas as pd\n",
    "\n",
    "pd.set_option('max_colwidth', 300)"
   ]
  },
  {
   "cell_type": "code",
   "execution_count": 47,
   "metadata": {},
   "outputs": [],
   "source": [
    "data = pd.read_csv(\n",
    "    \"twitter-hate-speech-classifier-DFE-a845520.csv\", \n",
    "    encoding=\"latin-1\", \n",
    "    usecols=[\n",
    "        'tweet_text', \n",
    "        'does_this_tweet_contain_hate_speechconfidence', \n",
    "        'does_this_tweet_contain_hate_speech:confidence',\n",
    "        'does_this_tweet_contain_hate_speech'])"
   ]
  },
  {
   "cell_type": "code",
   "execution_count": 48,
   "metadata": {},
   "outputs": [],
   "source": [
    "data = data.rename(columns={\n",
    "    'does_this_tweet_contain_hate_speech:confidence':'result:confidence',\n",
    "    'does_this_tweet_contain_hate_speechconfidence':'hate_speech:confidence'\n",
    "})"
   ]
  },
  {
   "cell_type": "code",
   "execution_count": 49,
   "metadata": {},
   "outputs": [],
   "source": [
    "data = data.reindex(columns=[\n",
    "    'tweet_text', \n",
    "    'hate_speech:confidence',\n",
    "    'does_this_tweet_contain_hate_speech',\n",
    "    'result:confidence'])"
   ]
  },
  {
   "cell_type": "code",
   "execution_count": 53,
   "metadata": {},
   "outputs": [
    {
     "data": {
      "text/plain": [
       "0        1.0\n",
       "1        1.0\n",
       "2        1.0\n",
       "3        1.0\n",
       "4        1.0\n",
       "        ... \n",
       "14504    NaN\n",
       "14505    NaN\n",
       "14506    NaN\n",
       "14507    NaN\n",
       "14508    NaN\n",
       "Name: hate_speech:confidence, Length: 14509, dtype: float64"
      ]
     },
     "execution_count": 53,
     "metadata": {},
     "output_type": "execute_result"
    }
   ],
   "source": [
    "data['hate_speech:confidence']"
   ]
  },
  {
   "cell_type": "code",
   "execution_count": null,
   "metadata": {},
   "outputs": [],
   "source": []
  }
 ],
 "metadata": {
  "kernelspec": {
   "display_name": "Python 3",
   "language": "python",
   "name": "python3"
  },
  "language_info": {
   "codemirror_mode": {
    "name": "ipython",
    "version": 3
   },
   "file_extension": ".py",
   "mimetype": "text/x-python",
   "name": "python",
   "nbconvert_exporter": "python",
   "pygments_lexer": "ipython3",
   "version": "3.7.4"
  }
 },
 "nbformat": 4,
 "nbformat_minor": 2
}
